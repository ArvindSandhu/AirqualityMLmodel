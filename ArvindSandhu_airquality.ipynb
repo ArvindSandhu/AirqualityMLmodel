{
 "cells": [
  {
   "cell_type": "markdown",
   "id": "0dbdecd4",
   "metadata": {},
   "source": [
    "# Project on Airquality data set\n",
    "### BY:\n",
    "         Arvind Sandhu_180010130023\n",
    "         "
   ]
  },
  {
   "cell_type": "code",
   "execution_count": 1,
   "id": "ee199849",
   "metadata": {},
   "outputs": [
    {
     "data": {
      "text/plain": [
       "'C:\\\\Users\\\\Sandhu\\\\Desktop\\\\Python Codes'"
      ]
     },
     "execution_count": 1,
     "metadata": {},
     "output_type": "execute_result"
    }
   ],
   "source": [
    "import os\n",
    "os.getcwd()"
   ]
  },
  {
   "cell_type": "code",
   "execution_count": 2,
   "id": "7bded513",
   "metadata": {},
   "outputs": [],
   "source": [
    "os.chdir(\"C:/Users/Sandhu/Desktop/Data Sets\")"
   ]
  },
  {
   "cell_type": "code",
   "execution_count": 3,
   "id": "200a48c5",
   "metadata": {},
   "outputs": [
    {
     "data": {
      "text/plain": [
       "'C:\\\\Users\\\\Sandhu\\\\Desktop\\\\Data Sets'"
      ]
     },
     "execution_count": 3,
     "metadata": {},
     "output_type": "execute_result"
    }
   ],
   "source": [
    "os.getcwd()"
   ]
  },
  {
   "cell_type": "code",
   "execution_count": 4,
   "id": "49ee1cff",
   "metadata": {},
   "outputs": [],
   "source": [
    "import pandas as pd\n",
    "import numpy as np\n",
    "import matplotlib.pyplot as ptl\n",
    "%matplotlib inline\n",
    "import seaborn as sns"
   ]
  },
  {
   "cell_type": "code",
   "execution_count": 5,
   "id": "f28559fb",
   "metadata": {},
   "outputs": [],
   "source": [
    "df=pd.read_csv('airquality.csv')"
   ]
  },
  {
   "cell_type": "code",
   "execution_count": 6,
   "id": "a51bf57d",
   "metadata": {},
   "outputs": [
    {
     "data": {
      "text/html": [
       "<div>\n",
       "<style scoped>\n",
       "    .dataframe tbody tr th:only-of-type {\n",
       "        vertical-align: middle;\n",
       "    }\n",
       "\n",
       "    .dataframe tbody tr th {\n",
       "        vertical-align: top;\n",
       "    }\n",
       "\n",
       "    .dataframe thead th {\n",
       "        text-align: right;\n",
       "    }\n",
       "</style>\n",
       "<table border=\"1\" class=\"dataframe\">\n",
       "  <thead>\n",
       "    <tr style=\"text-align: right;\">\n",
       "      <th></th>\n",
       "      <th>Ozone</th>\n",
       "      <th>Solar.R</th>\n",
       "      <th>Wind</th>\n",
       "      <th>Temp</th>\n",
       "      <th>Month</th>\n",
       "      <th>Day</th>\n",
       "    </tr>\n",
       "  </thead>\n",
       "  <tbody>\n",
       "    <tr>\n",
       "      <th>0</th>\n",
       "      <td>41.0</td>\n",
       "      <td>190.0</td>\n",
       "      <td>7.4</td>\n",
       "      <td>67</td>\n",
       "      <td>5</td>\n",
       "      <td>1</td>\n",
       "    </tr>\n",
       "    <tr>\n",
       "      <th>1</th>\n",
       "      <td>36.0</td>\n",
       "      <td>118.0</td>\n",
       "      <td>8.0</td>\n",
       "      <td>72</td>\n",
       "      <td>5</td>\n",
       "      <td>2</td>\n",
       "    </tr>\n",
       "    <tr>\n",
       "      <th>2</th>\n",
       "      <td>12.0</td>\n",
       "      <td>149.0</td>\n",
       "      <td>12.6</td>\n",
       "      <td>74</td>\n",
       "      <td>5</td>\n",
       "      <td>3</td>\n",
       "    </tr>\n",
       "    <tr>\n",
       "      <th>3</th>\n",
       "      <td>18.0</td>\n",
       "      <td>313.0</td>\n",
       "      <td>11.5</td>\n",
       "      <td>62</td>\n",
       "      <td>5</td>\n",
       "      <td>4</td>\n",
       "    </tr>\n",
       "    <tr>\n",
       "      <th>4</th>\n",
       "      <td>NaN</td>\n",
       "      <td>NaN</td>\n",
       "      <td>14.3</td>\n",
       "      <td>56</td>\n",
       "      <td>5</td>\n",
       "      <td>5</td>\n",
       "    </tr>\n",
       "    <tr>\n",
       "      <th>...</th>\n",
       "      <td>...</td>\n",
       "      <td>...</td>\n",
       "      <td>...</td>\n",
       "      <td>...</td>\n",
       "      <td>...</td>\n",
       "      <td>...</td>\n",
       "    </tr>\n",
       "    <tr>\n",
       "      <th>148</th>\n",
       "      <td>30.0</td>\n",
       "      <td>193.0</td>\n",
       "      <td>6.9</td>\n",
       "      <td>70</td>\n",
       "      <td>9</td>\n",
       "      <td>26</td>\n",
       "    </tr>\n",
       "    <tr>\n",
       "      <th>149</th>\n",
       "      <td>NaN</td>\n",
       "      <td>145.0</td>\n",
       "      <td>13.2</td>\n",
       "      <td>77</td>\n",
       "      <td>9</td>\n",
       "      <td>27</td>\n",
       "    </tr>\n",
       "    <tr>\n",
       "      <th>150</th>\n",
       "      <td>14.0</td>\n",
       "      <td>191.0</td>\n",
       "      <td>14.3</td>\n",
       "      <td>75</td>\n",
       "      <td>9</td>\n",
       "      <td>28</td>\n",
       "    </tr>\n",
       "    <tr>\n",
       "      <th>151</th>\n",
       "      <td>18.0</td>\n",
       "      <td>131.0</td>\n",
       "      <td>8.0</td>\n",
       "      <td>76</td>\n",
       "      <td>9</td>\n",
       "      <td>29</td>\n",
       "    </tr>\n",
       "    <tr>\n",
       "      <th>152</th>\n",
       "      <td>20.0</td>\n",
       "      <td>223.0</td>\n",
       "      <td>11.5</td>\n",
       "      <td>68</td>\n",
       "      <td>9</td>\n",
       "      <td>3</td>\n",
       "    </tr>\n",
       "  </tbody>\n",
       "</table>\n",
       "<p>153 rows × 6 columns</p>\n",
       "</div>"
      ],
      "text/plain": [
       "     Ozone  Solar.R  Wind  Temp  Month  Day\n",
       "0     41.0    190.0   7.4    67      5    1\n",
       "1     36.0    118.0   8.0    72      5    2\n",
       "2     12.0    149.0  12.6    74      5    3\n",
       "3     18.0    313.0  11.5    62      5    4\n",
       "4      NaN      NaN  14.3    56      5    5\n",
       "..     ...      ...   ...   ...    ...  ...\n",
       "148   30.0    193.0   6.9    70      9   26\n",
       "149    NaN    145.0  13.2    77      9   27\n",
       "150   14.0    191.0  14.3    75      9   28\n",
       "151   18.0    131.0   8.0    76      9   29\n",
       "152   20.0    223.0  11.5    68      9    3\n",
       "\n",
       "[153 rows x 6 columns]"
      ]
     },
     "execution_count": 6,
     "metadata": {},
     "output_type": "execute_result"
    }
   ],
   "source": [
    "df"
   ]
  },
  {
   "cell_type": "code",
   "execution_count": 7,
   "id": "1642e204",
   "metadata": {},
   "outputs": [
    {
     "data": {
      "text/plain": [
       "37"
      ]
     },
     "execution_count": 7,
     "metadata": {},
     "output_type": "execute_result"
    }
   ],
   "source": [
    "df[\"Ozone\"].isna().sum()"
   ]
  },
  {
   "cell_type": "raw",
   "id": "d8a38810",
   "metadata": {},
   "source": [
    "Here we can observe that our target variable is Ozone Depletion which depends on various independent variables like Solar Radiation,Wind,Temp. And even month and days."
   ]
  },
  {
   "cell_type": "code",
   "execution_count": 8,
   "id": "efe0fdf7",
   "metadata": {},
   "outputs": [
    {
     "data": {
      "text/html": [
       "<div>\n",
       "<style scoped>\n",
       "    .dataframe tbody tr th:only-of-type {\n",
       "        vertical-align: middle;\n",
       "    }\n",
       "\n",
       "    .dataframe tbody tr th {\n",
       "        vertical-align: top;\n",
       "    }\n",
       "\n",
       "    .dataframe thead th {\n",
       "        text-align: right;\n",
       "    }\n",
       "</style>\n",
       "<table border=\"1\" class=\"dataframe\">\n",
       "  <thead>\n",
       "    <tr style=\"text-align: right;\">\n",
       "      <th></th>\n",
       "      <th>Ozone</th>\n",
       "      <th>Solar.R</th>\n",
       "      <th>Wind</th>\n",
       "      <th>Temp</th>\n",
       "      <th>Month</th>\n",
       "      <th>Day</th>\n",
       "    </tr>\n",
       "  </thead>\n",
       "  <tbody>\n",
       "    <tr>\n",
       "      <th>0</th>\n",
       "      <td>41.0</td>\n",
       "      <td>190.0</td>\n",
       "      <td>7.4</td>\n",
       "      <td>67</td>\n",
       "      <td>5</td>\n",
       "      <td>1</td>\n",
       "    </tr>\n",
       "    <tr>\n",
       "      <th>1</th>\n",
       "      <td>36.0</td>\n",
       "      <td>118.0</td>\n",
       "      <td>8.0</td>\n",
       "      <td>72</td>\n",
       "      <td>5</td>\n",
       "      <td>2</td>\n",
       "    </tr>\n",
       "    <tr>\n",
       "      <th>2</th>\n",
       "      <td>12.0</td>\n",
       "      <td>149.0</td>\n",
       "      <td>12.6</td>\n",
       "      <td>74</td>\n",
       "      <td>5</td>\n",
       "      <td>3</td>\n",
       "    </tr>\n",
       "    <tr>\n",
       "      <th>3</th>\n",
       "      <td>18.0</td>\n",
       "      <td>313.0</td>\n",
       "      <td>11.5</td>\n",
       "      <td>62</td>\n",
       "      <td>5</td>\n",
       "      <td>4</td>\n",
       "    </tr>\n",
       "    <tr>\n",
       "      <th>4</th>\n",
       "      <td>NaN</td>\n",
       "      <td>NaN</td>\n",
       "      <td>14.3</td>\n",
       "      <td>56</td>\n",
       "      <td>5</td>\n",
       "      <td>5</td>\n",
       "    </tr>\n",
       "  </tbody>\n",
       "</table>\n",
       "</div>"
      ],
      "text/plain": [
       "   Ozone  Solar.R  Wind  Temp  Month  Day\n",
       "0   41.0    190.0   7.4    67      5    1\n",
       "1   36.0    118.0   8.0    72      5    2\n",
       "2   12.0    149.0  12.6    74      5    3\n",
       "3   18.0    313.0  11.5    62      5    4\n",
       "4    NaN      NaN  14.3    56      5    5"
      ]
     },
     "execution_count": 8,
     "metadata": {},
     "output_type": "execute_result"
    }
   ],
   "source": [
    "df.head()"
   ]
  },
  {
   "cell_type": "code",
   "execution_count": 9,
   "id": "865d5cd8",
   "metadata": {},
   "outputs": [
    {
     "data": {
      "text/plain": [
       "<bound method DataFrame.info of      Ozone  Solar.R  Wind  Temp  Month  Day\n",
       "0     41.0    190.0   7.4    67      5    1\n",
       "1     36.0    118.0   8.0    72      5    2\n",
       "2     12.0    149.0  12.6    74      5    3\n",
       "3     18.0    313.0  11.5    62      5    4\n",
       "4      NaN      NaN  14.3    56      5    5\n",
       "..     ...      ...   ...   ...    ...  ...\n",
       "148   30.0    193.0   6.9    70      9   26\n",
       "149    NaN    145.0  13.2    77      9   27\n",
       "150   14.0    191.0  14.3    75      9   28\n",
       "151   18.0    131.0   8.0    76      9   29\n",
       "152   20.0    223.0  11.5    68      9    3\n",
       "\n",
       "[153 rows x 6 columns]>"
      ]
     },
     "execution_count": 9,
     "metadata": {},
     "output_type": "execute_result"
    }
   ],
   "source": [
    "df.info"
   ]
  },
  {
   "cell_type": "markdown",
   "id": "081fb3e4",
   "metadata": {},
   "source": [
    "As we can see there are Nan values in our data,so firstly we have to impute it with mean/mode/meadian\n",
    "Here i am using mean imputation.\n",
    "But before that we have tpo Check for abnormalities/outliers in our data."
   ]
  },
  {
   "cell_type": "code",
   "execution_count": 10,
   "id": "8959f1cd",
   "metadata": {},
   "outputs": [
    {
     "data": {
      "text/html": [
       "<div>\n",
       "<style scoped>\n",
       "    .dataframe tbody tr th:only-of-type {\n",
       "        vertical-align: middle;\n",
       "    }\n",
       "\n",
       "    .dataframe tbody tr th {\n",
       "        vertical-align: top;\n",
       "    }\n",
       "\n",
       "    .dataframe thead th {\n",
       "        text-align: right;\n",
       "    }\n",
       "</style>\n",
       "<table border=\"1\" class=\"dataframe\">\n",
       "  <thead>\n",
       "    <tr style=\"text-align: right;\">\n",
       "      <th></th>\n",
       "      <th>Ozone</th>\n",
       "      <th>Solar.R</th>\n",
       "      <th>Wind</th>\n",
       "      <th>Temp</th>\n",
       "      <th>Month</th>\n",
       "      <th>Day</th>\n",
       "    </tr>\n",
       "  </thead>\n",
       "  <tbody>\n",
       "    <tr>\n",
       "      <th>count</th>\n",
       "      <td>116.000000</td>\n",
       "      <td>146.000000</td>\n",
       "      <td>153.000000</td>\n",
       "      <td>153.000000</td>\n",
       "      <td>153.000000</td>\n",
       "      <td>153.000000</td>\n",
       "    </tr>\n",
       "    <tr>\n",
       "      <th>mean</th>\n",
       "      <td>42.129310</td>\n",
       "      <td>185.931507</td>\n",
       "      <td>9.957516</td>\n",
       "      <td>77.882353</td>\n",
       "      <td>6.993464</td>\n",
       "      <td>15.627451</td>\n",
       "    </tr>\n",
       "    <tr>\n",
       "      <th>std</th>\n",
       "      <td>32.987885</td>\n",
       "      <td>90.058422</td>\n",
       "      <td>3.523001</td>\n",
       "      <td>9.465270</td>\n",
       "      <td>1.416522</td>\n",
       "      <td>8.848790</td>\n",
       "    </tr>\n",
       "    <tr>\n",
       "      <th>min</th>\n",
       "      <td>1.000000</td>\n",
       "      <td>7.000000</td>\n",
       "      <td>1.700000</td>\n",
       "      <td>56.000000</td>\n",
       "      <td>5.000000</td>\n",
       "      <td>1.000000</td>\n",
       "    </tr>\n",
       "    <tr>\n",
       "      <th>25%</th>\n",
       "      <td>18.000000</td>\n",
       "      <td>115.750000</td>\n",
       "      <td>7.400000</td>\n",
       "      <td>72.000000</td>\n",
       "      <td>6.000000</td>\n",
       "      <td>8.000000</td>\n",
       "    </tr>\n",
       "    <tr>\n",
       "      <th>50%</th>\n",
       "      <td>31.500000</td>\n",
       "      <td>205.000000</td>\n",
       "      <td>9.700000</td>\n",
       "      <td>79.000000</td>\n",
       "      <td>7.000000</td>\n",
       "      <td>16.000000</td>\n",
       "    </tr>\n",
       "    <tr>\n",
       "      <th>75%</th>\n",
       "      <td>63.250000</td>\n",
       "      <td>258.750000</td>\n",
       "      <td>11.500000</td>\n",
       "      <td>85.000000</td>\n",
       "      <td>8.000000</td>\n",
       "      <td>23.000000</td>\n",
       "    </tr>\n",
       "    <tr>\n",
       "      <th>max</th>\n",
       "      <td>168.000000</td>\n",
       "      <td>334.000000</td>\n",
       "      <td>20.700000</td>\n",
       "      <td>97.000000</td>\n",
       "      <td>9.000000</td>\n",
       "      <td>31.000000</td>\n",
       "    </tr>\n",
       "  </tbody>\n",
       "</table>\n",
       "</div>"
      ],
      "text/plain": [
       "            Ozone     Solar.R        Wind        Temp       Month         Day\n",
       "count  116.000000  146.000000  153.000000  153.000000  153.000000  153.000000\n",
       "mean    42.129310  185.931507    9.957516   77.882353    6.993464   15.627451\n",
       "std     32.987885   90.058422    3.523001    9.465270    1.416522    8.848790\n",
       "min      1.000000    7.000000    1.700000   56.000000    5.000000    1.000000\n",
       "25%     18.000000  115.750000    7.400000   72.000000    6.000000    8.000000\n",
       "50%     31.500000  205.000000    9.700000   79.000000    7.000000   16.000000\n",
       "75%     63.250000  258.750000   11.500000   85.000000    8.000000   23.000000\n",
       "max    168.000000  334.000000   20.700000   97.000000    9.000000   31.000000"
      ]
     },
     "execution_count": 10,
     "metadata": {},
     "output_type": "execute_result"
    }
   ],
   "source": [
    "df.describe()"
   ]
  },
  {
   "cell_type": "markdown",
   "id": "799dd19a",
   "metadata": {},
   "source": [
    "## Handling Outliers"
   ]
  },
  {
   "cell_type": "code",
   "execution_count": 11,
   "id": "0d48f53f",
   "metadata": {},
   "outputs": [
    {
     "data": {
      "text/plain": [
       "<AxesSubplot:xlabel='Ozone'>"
      ]
     },
     "execution_count": 11,
     "metadata": {},
     "output_type": "execute_result"
    },
    {
     "data": {
      "image/png": "[encoded data removed]",
      "text/plain": [
       "<Figure size 432x288 with 1 Axes>"
      ]
     },
     "metadata": {
      "needs_background": "light"
     },
     "output_type": "display_data"
    }
   ],
   "source": [
    "sns.boxplot(data=df,x=df['Ozone'])"
   ]
  },
  {
   "cell_type": "markdown",
   "id": "68c2f102",
   "metadata": {},
   "source": [
    " Here we can clearly see those dark spots on the right of upper whisker,those are anomalies/outliers.\n",
    "so before imputation,we have to remove outliers for a consistent result."
   ]
  },
  {
   "cell_type": "code",
   "execution_count": 12,
   "id": "c81653e6",
   "metadata": {},
   "outputs": [
    {
     "name": "stdout",
     "output_type": "stream",
     "text": [
      "18.0\n",
      "63.25\n",
      "45.25\n",
      "-49.875 131.125\n"
     ]
    }
   ],
   "source": [
    "#Outliers treatment\n",
    "\n",
    "Q1=df['Ozone'].quantile(0.25)\n",
    "Q3=df['Ozone'].quantile(0.75)\n",
    "IQR=Q3-Q1\n",
    "print(Q1)\n",
    "print(Q3)\n",
    "print(IQR)\n",
    "Lower_Whisker = Q1 - 1.5* IQR\n",
    "Upper_Whisker = Q3 + 1.5* IQR\n",
    "print(Lower_Whisker, Upper_Whisker)"
   ]
  },
  {
   "cell_type": "code",
   "execution_count": 13,
   "id": "2250fbc0",
   "metadata": {},
   "outputs": [
    {
     "data": {
      "text/html": [
       "<div>\n",
       "<style scoped>\n",
       "    .dataframe tbody tr th:only-of-type {\n",
       "        vertical-align: middle;\n",
       "    }\n",
       "\n",
       "    .dataframe tbody tr th {\n",
       "        vertical-align: top;\n",
       "    }\n",
       "\n",
       "    .dataframe thead th {\n",
       "        text-align: right;\n",
       "    }\n",
       "</style>\n",
       "<table border=\"1\" class=\"dataframe\">\n",
       "  <thead>\n",
       "    <tr style=\"text-align: right;\">\n",
       "      <th></th>\n",
       "      <th>Ozone</th>\n",
       "      <th>Solar.R</th>\n",
       "      <th>Wind</th>\n",
       "      <th>Temp</th>\n",
       "      <th>Month</th>\n",
       "      <th>Day</th>\n",
       "    </tr>\n",
       "  </thead>\n",
       "  <tbody>\n",
       "    <tr>\n",
       "      <th>0</th>\n",
       "      <td>41.0</td>\n",
       "      <td>190.0</td>\n",
       "      <td>7.4</td>\n",
       "      <td>67</td>\n",
       "      <td>5</td>\n",
       "      <td>1</td>\n",
       "    </tr>\n",
       "    <tr>\n",
       "      <th>1</th>\n",
       "      <td>36.0</td>\n",
       "      <td>118.0</td>\n",
       "      <td>8.0</td>\n",
       "      <td>72</td>\n",
       "      <td>5</td>\n",
       "      <td>2</td>\n",
       "    </tr>\n",
       "    <tr>\n",
       "      <th>2</th>\n",
       "      <td>12.0</td>\n",
       "      <td>149.0</td>\n",
       "      <td>12.6</td>\n",
       "      <td>74</td>\n",
       "      <td>5</td>\n",
       "      <td>3</td>\n",
       "    </tr>\n",
       "    <tr>\n",
       "      <th>3</th>\n",
       "      <td>18.0</td>\n",
       "      <td>313.0</td>\n",
       "      <td>11.5</td>\n",
       "      <td>62</td>\n",
       "      <td>5</td>\n",
       "      <td>4</td>\n",
       "    </tr>\n",
       "    <tr>\n",
       "      <th>5</th>\n",
       "      <td>28.0</td>\n",
       "      <td>NaN</td>\n",
       "      <td>14.9</td>\n",
       "      <td>66</td>\n",
       "      <td>5</td>\n",
       "      <td>6</td>\n",
       "    </tr>\n",
       "    <tr>\n",
       "      <th>...</th>\n",
       "      <td>...</td>\n",
       "      <td>...</td>\n",
       "      <td>...</td>\n",
       "      <td>...</td>\n",
       "      <td>...</td>\n",
       "      <td>...</td>\n",
       "    </tr>\n",
       "    <tr>\n",
       "      <th>147</th>\n",
       "      <td>14.0</td>\n",
       "      <td>20.0</td>\n",
       "      <td>16.6</td>\n",
       "      <td>63</td>\n",
       "      <td>9</td>\n",
       "      <td>25</td>\n",
       "    </tr>\n",
       "    <tr>\n",
       "      <th>148</th>\n",
       "      <td>30.0</td>\n",
       "      <td>193.0</td>\n",
       "      <td>6.9</td>\n",
       "      <td>70</td>\n",
       "      <td>9</td>\n",
       "      <td>26</td>\n",
       "    </tr>\n",
       "    <tr>\n",
       "      <th>150</th>\n",
       "      <td>14.0</td>\n",
       "      <td>191.0</td>\n",
       "      <td>14.3</td>\n",
       "      <td>75</td>\n",
       "      <td>9</td>\n",
       "      <td>28</td>\n",
       "    </tr>\n",
       "    <tr>\n",
       "      <th>151</th>\n",
       "      <td>18.0</td>\n",
       "      <td>131.0</td>\n",
       "      <td>8.0</td>\n",
       "      <td>76</td>\n",
       "      <td>9</td>\n",
       "      <td>29</td>\n",
       "    </tr>\n",
       "    <tr>\n",
       "      <th>152</th>\n",
       "      <td>20.0</td>\n",
       "      <td>223.0</td>\n",
       "      <td>11.5</td>\n",
       "      <td>68</td>\n",
       "      <td>9</td>\n",
       "      <td>3</td>\n",
       "    </tr>\n",
       "  </tbody>\n",
       "</table>\n",
       "<p>114 rows × 6 columns</p>\n",
       "</div>"
      ],
      "text/plain": [
       "     Ozone  Solar.R  Wind  Temp  Month  Day\n",
       "0     41.0    190.0   7.4    67      5    1\n",
       "1     36.0    118.0   8.0    72      5    2\n",
       "2     12.0    149.0  12.6    74      5    3\n",
       "3     18.0    313.0  11.5    62      5    4\n",
       "5     28.0      NaN  14.9    66      5    6\n",
       "..     ...      ...   ...   ...    ...  ...\n",
       "147   14.0     20.0  16.6    63      9   25\n",
       "148   30.0    193.0   6.9    70      9   26\n",
       "150   14.0    191.0  14.3    75      9   28\n",
       "151   18.0    131.0   8.0    76      9   29\n",
       "152   20.0    223.0  11.5    68      9    3\n",
       "\n",
       "[114 rows x 6 columns]"
      ]
     },
     "execution_count": 13,
     "metadata": {},
     "output_type": "execute_result"
    }
   ],
   "source": [
    "#Outlier Treatment\n",
    "#Apply conditions to remove outliers\n",
    "df = df[df['Ozone'] < Upper_Whisker]\n",
    "df"
   ]
  },
  {
   "cell_type": "code",
   "execution_count": 14,
   "id": "a3a18593",
   "metadata": {},
   "outputs": [
    {
     "data": {
      "text/html": [
       "<div>\n",
       "<style scoped>\n",
       "    .dataframe tbody tr th:only-of-type {\n",
       "        vertical-align: middle;\n",
       "    }\n",
       "\n",
       "    .dataframe tbody tr th {\n",
       "        vertical-align: top;\n",
       "    }\n",
       "\n",
       "    .dataframe thead th {\n",
       "        text-align: right;\n",
       "    }\n",
       "</style>\n",
       "<table border=\"1\" class=\"dataframe\">\n",
       "  <thead>\n",
       "    <tr style=\"text-align: right;\">\n",
       "      <th></th>\n",
       "      <th>Ozone</th>\n",
       "      <th>Solar.R</th>\n",
       "      <th>Wind</th>\n",
       "      <th>Temp</th>\n",
       "      <th>Month</th>\n",
       "      <th>Day</th>\n",
       "    </tr>\n",
       "  </thead>\n",
       "  <tbody>\n",
       "    <tr>\n",
       "      <th>count</th>\n",
       "      <td>114.000000</td>\n",
       "      <td>109.000000</td>\n",
       "      <td>114.000000</td>\n",
       "      <td>114.000000</td>\n",
       "      <td>114.000000</td>\n",
       "      <td>114.000000</td>\n",
       "    </tr>\n",
       "    <tr>\n",
       "      <th>mean</th>\n",
       "      <td>40.210526</td>\n",
       "      <td>183.541284</td>\n",
       "      <td>9.969298</td>\n",
       "      <td>77.789474</td>\n",
       "      <td>7.192982</td>\n",
       "      <td>15.342105</td>\n",
       "    </tr>\n",
       "    <tr>\n",
       "      <th>std</th>\n",
       "      <td>29.786103</td>\n",
       "      <td>91.483102</td>\n",
       "      <td>3.511527</td>\n",
       "      <td>9.546786</td>\n",
       "      <td>1.486679</td>\n",
       "      <td>8.646273</td>\n",
       "    </tr>\n",
       "    <tr>\n",
       "      <th>min</th>\n",
       "      <td>1.000000</td>\n",
       "      <td>7.000000</td>\n",
       "      <td>2.300000</td>\n",
       "      <td>57.000000</td>\n",
       "      <td>5.000000</td>\n",
       "      <td>1.000000</td>\n",
       "    </tr>\n",
       "    <tr>\n",
       "      <th>25%</th>\n",
       "      <td>18.000000</td>\n",
       "      <td>112.000000</td>\n",
       "      <td>7.400000</td>\n",
       "      <td>71.000000</td>\n",
       "      <td>6.000000</td>\n",
       "      <td>8.000000</td>\n",
       "    </tr>\n",
       "    <tr>\n",
       "      <th>50%</th>\n",
       "      <td>30.500000</td>\n",
       "      <td>203.000000</td>\n",
       "      <td>9.700000</td>\n",
       "      <td>79.000000</td>\n",
       "      <td>7.000000</td>\n",
       "      <td>16.000000</td>\n",
       "    </tr>\n",
       "    <tr>\n",
       "      <th>75%</th>\n",
       "      <td>60.500000</td>\n",
       "      <td>255.000000</td>\n",
       "      <td>11.500000</td>\n",
       "      <td>85.000000</td>\n",
       "      <td>8.750000</td>\n",
       "      <td>21.750000</td>\n",
       "    </tr>\n",
       "    <tr>\n",
       "      <th>max</th>\n",
       "      <td>122.000000</td>\n",
       "      <td>334.000000</td>\n",
       "      <td>20.700000</td>\n",
       "      <td>97.000000</td>\n",
       "      <td>9.000000</td>\n",
       "      <td>31.000000</td>\n",
       "    </tr>\n",
       "  </tbody>\n",
       "</table>\n",
       "</div>"
      ],
      "text/plain": [
       "            Ozone     Solar.R        Wind        Temp       Month         Day\n",
       "count  114.000000  109.000000  114.000000  114.000000  114.000000  114.000000\n",
       "mean    40.210526  183.541284    9.969298   77.789474    7.192982   15.342105\n",
       "std     29.786103   91.483102    3.511527    9.546786    1.486679    8.646273\n",
       "min      1.000000    7.000000    2.300000   57.000000    5.000000    1.000000\n",
       "25%     18.000000  112.000000    7.400000   71.000000    6.000000    8.000000\n",
       "50%     30.500000  203.000000    9.700000   79.000000    7.000000   16.000000\n",
       "75%     60.500000  255.000000   11.500000   85.000000    8.750000   21.750000\n",
       "max    122.000000  334.000000   20.700000   97.000000    9.000000   31.000000"
      ]
     },
     "execution_count": 14,
     "metadata": {},
     "output_type": "execute_result"
    }
   ],
   "source": [
    "df.describe()"
   ]
  },
  {
   "cell_type": "code",
   "execution_count": 15,
   "id": "e99ad904",
   "metadata": {},
   "outputs": [
    {
     "data": {
      "text/plain": [
       "<AxesSubplot:xlabel='Ozone'>"
      ]
     },
     "execution_count": 15,
     "metadata": {},
     "output_type": "execute_result"
    },
    {
     "data": {
      "image/png": "[encoded data removed]",
      "text/plain": [
       "<Figure size 432x288 with 1 Axes>"
      ]
     },
     "metadata": {
      "needs_background": "light"
     },
     "output_type": "display_data"
    }
   ],
   "source": [
    "sns.boxplot(data=df,x=df['Ozone'])"
   ]
  },
  {
   "cell_type": "markdown",
   "id": "08329469",
   "metadata": {},
   "source": [
    "So the outliers are successfully handled.\n",
    "Lets check for anomalies in Wind values also"
   ]
  },
  {
   "cell_type": "code",
   "execution_count": 16,
   "id": "89613376",
   "metadata": {},
   "outputs": [
    {
     "data": {
      "text/plain": [
       "<AxesSubplot:xlabel='Wind'>"
      ]
     },
     "execution_count": 16,
     "metadata": {},
     "output_type": "execute_result"
    },
    {
     "data": {
      "image/png": "[encoded data removed]",
      "text/plain": [
       "<Figure size 432x288 with 1 Axes>"
      ]
     },
     "metadata": {
      "needs_background": "light"
     },
     "output_type": "display_data"
    }
   ],
   "source": [
    "sns.boxplot(data=df,x=df['Wind'])"
   ]
  },
  {
   "cell_type": "code",
   "execution_count": 17,
   "id": "74b82ec4",
   "metadata": {},
   "outputs": [
    {
     "name": "stdout",
     "output_type": "stream",
     "text": [
      "7.4\n",
      "11.5\n",
      "4.1\n",
      "1.2500000000000009 17.65\n"
     ]
    }
   ],
   "source": [
    "#Dealing with outliers.\n",
    "Q1=df['Wind'].quantile(0.25)\n",
    "Q3=df['Wind'].quantile(0.75)\n",
    "IQR=Q3-Q1\n",
    "print(Q1)\n",
    "print(Q3)\n",
    "print(IQR)\n",
    "Lower_Whisker = Q1 - 1.5* IQR\n",
    "Upper_Whisker = Q3 + 1.5*IQR\n",
    "print(Lower_Whisker, Upper_Whisker)"
   ]
  },
  {
   "cell_type": "code",
   "execution_count": 18,
   "id": "c371023b",
   "metadata": {},
   "outputs": [
    {
     "data": {
      "text/html": [
       "<div>\n",
       "<style scoped>\n",
       "    .dataframe tbody tr th:only-of-type {\n",
       "        vertical-align: middle;\n",
       "    }\n",
       "\n",
       "    .dataframe tbody tr th {\n",
       "        vertical-align: top;\n",
       "    }\n",
       "\n",
       "    .dataframe thead th {\n",
       "        text-align: right;\n",
       "    }\n",
       "</style>\n",
       "<table border=\"1\" class=\"dataframe\">\n",
       "  <thead>\n",
       "    <tr style=\"text-align: right;\">\n",
       "      <th></th>\n",
       "      <th>Ozone</th>\n",
       "      <th>Solar.R</th>\n",
       "      <th>Wind</th>\n",
       "      <th>Temp</th>\n",
       "      <th>Month</th>\n",
       "      <th>Day</th>\n",
       "    </tr>\n",
       "  </thead>\n",
       "  <tbody>\n",
       "    <tr>\n",
       "      <th>count</th>\n",
       "      <td>111.000000</td>\n",
       "      <td>106.000000</td>\n",
       "      <td>111.000000</td>\n",
       "      <td>111.000000</td>\n",
       "      <td>111.000000</td>\n",
       "      <td>111.000000</td>\n",
       "    </tr>\n",
       "    <tr>\n",
       "      <th>mean</th>\n",
       "      <td>40.837838</td>\n",
       "      <td>185.141509</td>\n",
       "      <td>9.705405</td>\n",
       "      <td>78.180180</td>\n",
       "      <td>7.243243</td>\n",
       "      <td>15.360360</td>\n",
       "    </tr>\n",
       "    <tr>\n",
       "      <th>std</th>\n",
       "      <td>29.847047</td>\n",
       "      <td>90.253235</td>\n",
       "      <td>3.157670</td>\n",
       "      <td>9.310012</td>\n",
       "      <td>1.472266</td>\n",
       "      <td>8.737373</td>\n",
       "    </tr>\n",
       "    <tr>\n",
       "      <th>min</th>\n",
       "      <td>1.000000</td>\n",
       "      <td>7.000000</td>\n",
       "      <td>2.300000</td>\n",
       "      <td>58.000000</td>\n",
       "      <td>5.000000</td>\n",
       "      <td>1.000000</td>\n",
       "    </tr>\n",
       "    <tr>\n",
       "      <th>25%</th>\n",
       "      <td>18.000000</td>\n",
       "      <td>115.750000</td>\n",
       "      <td>7.400000</td>\n",
       "      <td>71.500000</td>\n",
       "      <td>6.000000</td>\n",
       "      <td>8.000000</td>\n",
       "    </tr>\n",
       "    <tr>\n",
       "      <th>50%</th>\n",
       "      <td>31.000000</td>\n",
       "      <td>205.000000</td>\n",
       "      <td>9.700000</td>\n",
       "      <td>79.000000</td>\n",
       "      <td>7.000000</td>\n",
       "      <td>16.000000</td>\n",
       "    </tr>\n",
       "    <tr>\n",
       "      <th>75%</th>\n",
       "      <td>62.000000</td>\n",
       "      <td>254.750000</td>\n",
       "      <td>11.500000</td>\n",
       "      <td>85.000000</td>\n",
       "      <td>9.000000</td>\n",
       "      <td>22.000000</td>\n",
       "    </tr>\n",
       "    <tr>\n",
       "      <th>max</th>\n",
       "      <td>122.000000</td>\n",
       "      <td>334.000000</td>\n",
       "      <td>16.600000</td>\n",
       "      <td>97.000000</td>\n",
       "      <td>9.000000</td>\n",
       "      <td>31.000000</td>\n",
       "    </tr>\n",
       "  </tbody>\n",
       "</table>\n",
       "</div>"
      ],
      "text/plain": [
       "            Ozone     Solar.R        Wind        Temp       Month         Day\n",
       "count  111.000000  106.000000  111.000000  111.000000  111.000000  111.000000\n",
       "mean    40.837838  185.141509    9.705405   78.180180    7.243243   15.360360\n",
       "std     29.847047   90.253235    3.157670    9.310012    1.472266    8.737373\n",
       "min      1.000000    7.000000    2.300000   58.000000    5.000000    1.000000\n",
       "25%     18.000000  115.750000    7.400000   71.500000    6.000000    8.000000\n",
       "50%     31.000000  205.000000    9.700000   79.000000    7.000000   16.000000\n",
       "75%     62.000000  254.750000   11.500000   85.000000    9.000000   22.000000\n",
       "max    122.000000  334.000000   16.600000   97.000000    9.000000   31.000000"
      ]
     },
     "execution_count": 18,
     "metadata": {},
     "output_type": "execute_result"
    }
   ],
   "source": [
    "df = df[df['Wind'] < Upper_Whisker]\n",
    "df.describe()"
   ]
  },
  {
   "cell_type": "code",
   "execution_count": 19,
   "id": "34788c47",
   "metadata": {},
   "outputs": [
    {
     "data": {
      "text/plain": [
       "<AxesSubplot:xlabel='Wind'>"
      ]
     },
     "execution_count": 19,
     "metadata": {},
     "output_type": "execute_result"
    },
    {
     "data": {
      "image/png": "[encoded data removed]",
      "text/plain": [
       "<Figure size 432x288 with 1 Axes>"
      ]
     },
     "metadata": {
      "needs_background": "light"
     },
     "output_type": "display_data"
    }
   ],
   "source": [
    "sns.boxplot(data=df,x=df[\"Wind\"])"
   ]
  },
  {
   "cell_type": "code",
   "execution_count": 20,
   "id": "2713faf5",
   "metadata": {},
   "outputs": [
    {
     "data": {
      "text/plain": [
       "Ozone      0\n",
       "Solar.R    5\n",
       "Wind       0\n",
       "Temp       0\n",
       "Month      0\n",
       "Day        0\n",
       "dtype: int64"
      ]
     },
     "execution_count": 20,
     "metadata": {},
     "output_type": "execute_result"
    }
   ],
   "source": [
    "df.apply(lambda x:sum(x.isnull()),axis=0)"
   ]
  },
  {
   "cell_type": "markdown",
   "id": "c07f61f7",
   "metadata": {},
   "source": [
    "So here we can see that there are 5 \"Nan\" values in Solar.R feature."
   ]
  },
  {
   "cell_type": "markdown",
   "id": "8a1cd6a1",
   "metadata": {},
   "source": [
    "## Null value removal"
   ]
  },
  {
   "cell_type": "code",
   "execution_count": 21,
   "id": "8dca0993",
   "metadata": {},
   "outputs": [],
   "source": [
    "features = df.iloc[0:,:].values"
   ]
  },
  {
   "cell_type": "code",
   "execution_count": 22,
   "id": "bccae4a9",
   "metadata": {},
   "outputs": [
    {
     "data": {
      "text/plain": [
       "array([[ 41. , 190. ,   7.4,  67. ,   5. ,   1. ],\n",
       "       [ 36. , 118. ,   8. ,  72. ,   5. ,   2. ],\n",
       "       [ 12. , 149. ,  12.6,  74. ,   5. ,   3. ],\n",
       "       [ 18. , 313. ,  11.5,  62. ,   5. ,   4. ],\n",
       "       [ 28. ,   nan,  14.9,  66. ,   5. ,   6. ],\n",
       "       [ 23. , 299. ,   8.6,  65. ,   5. ,   7. ],\n",
       "       [ 19. ,  99. ,  13.8,  59. ,   5. ,   8. ],\n",
       "       [  7. ,   nan,   6.9,  74. ,   5. ,  11. ],\n",
       "       [ 16. , 256. ,   9.7,  69. ,   5. ,  12. ],\n",
       "       [ 11. , 290. ,   9.2,  66. ,   5. ,  13. ],\n",
       "       [ 14. , 274. ,  10.9,  68. ,   5. ,  14. ],\n",
       "       [ 18. ,  65. ,  13.2,  58. ,   5. ,  15. ],\n",
       "       [ 14. , 334. ,  11.5,  64. ,   5. ,  16. ],\n",
       "       [ 34. , 307. ,  12. ,  66. ,   5. ,  17. ],\n",
       "       [ 30. , 322. ,  11.5,  68. ,   5. ,  19. ],\n",
       "       [ 11. ,  44. ,   9.7,  62. ,   5. ,  20. ],\n",
       "       [  1. ,   8. ,   9.7,  59. ,   5. ,  21. ],\n",
       "       [ 11. , 320. ,  16.6,  73. ,   5. ,  22. ],\n",
       "       [  4. ,  25. ,   9.7,  61. ,   5. ,  23. ],\n",
       "       [ 32. ,  92. ,  12. ,  61. ,   5. ,  24. ],\n",
       "       [ 23. ,  13. ,  12. ,  67. ,   5. ,  28. ],\n",
       "       [ 45. , 252. ,  14.9,  81. ,   5. ,  29. ],\n",
       "       [115. , 223. ,   5.7,  79. ,   5. ,  30. ],\n",
       "       [ 37. , 279. ,   7.4,  76. ,   5. ,  31. ],\n",
       "       [ 29. , 127. ,   9.7,  82. ,   6. ,   7. ],\n",
       "       [ 71. , 291. ,  13.8,  90. ,   6. ,   9. ],\n",
       "       [ 39. , 323. ,  11.5,  87. ,   6. ,  10. ],\n",
       "       [ 23. , 148. ,   8. ,  82. ,   6. ,  13. ],\n",
       "       [ 21. , 191. ,  14.9,  77. ,   6. ,  16. ],\n",
       "       [ 20. ,  37. ,   9.2,  65. ,   6. ,  18. ],\n",
       "       [ 12. , 120. ,  11.5,  73. ,   6. ,  19. ],\n",
       "       [ 13. , 137. ,  10.3,  76. ,   6. ,  20. ],\n",
       "       [ 49. , 248. ,   9.2,  85. ,   7. ,   2. ],\n",
       "       [ 32. , 236. ,   9.2,  81. ,   7. ,   3. ],\n",
       "       [ 64. , 175. ,   4.6,  83. ,   7. ,   5. ],\n",
       "       [ 40. , 314. ,  10.9,  83. ,   7. ,   6. ],\n",
       "       [ 77. , 276. ,   5.1,  88. ,   7. ,   7. ],\n",
       "       [ 97. , 267. ,   6.3,  92. ,   7. ,   8. ],\n",
       "       [ 97. , 272. ,   5.7,  92. ,   7. ,   9. ],\n",
       "       [ 85. , 175. ,   7.4,  89. ,   7. ,  10. ],\n",
       "       [ 10. , 264. ,  14.3,  73. ,   7. ,  12. ],\n",
       "       [ 27. , 175. ,  14.9,  81. ,   7. ,  13. ],\n",
       "       [  7. ,  48. ,  14.3,  80. ,   7. ,  15. ],\n",
       "       [ 48. , 260. ,   6.9,  81. ,   7. ,  16. ],\n",
       "       [ 35. , 274. ,  10.3,  82. ,   7. ,  17. ],\n",
       "       [ 61. , 285. ,   6.3,  84. ,   7. ,  18. ],\n",
       "       [ 79. , 187. ,   5.1,  87. ,   7. ,  19. ],\n",
       "       [ 63. , 220. ,  11.5,  85. ,   7. ,  20. ],\n",
       "       [ 16. ,   7. ,   6.9,  74. ,   7. ,  21. ],\n",
       "       [ 80. , 294. ,   8.6,  86. ,   7. ,  24. ],\n",
       "       [108. , 223. ,   8. ,  85. ,   7. ,  25. ],\n",
       "       [ 20. ,  81. ,   8.6,  82. ,   7. ,  26. ],\n",
       "       [ 52. ,  82. ,  12. ,  86. ,   7. ,  27. ],\n",
       "       [ 82. , 213. ,   7.4,  88. ,   7. ,  28. ],\n",
       "       [ 50. , 275. ,   7.4,  86. ,   7. ,  29. ],\n",
       "       [ 64. , 253. ,   7.4,  83. ,   7. ,  30. ],\n",
       "       [ 59. , 254. ,   9.2,  81. ,   7. ,  31. ],\n",
       "       [ 39. ,  83. ,   6.9,  81. ,   8. ,   1. ],\n",
       "       [  9. ,  24. ,  13.8,  81. ,   8. ,   2. ],\n",
       "       [ 16. ,  77. ,   7.4,  82. ,   8. ,   3. ],\n",
       "       [ 78. ,   nan,   6.9,  86. ,   8. ,   4. ],\n",
       "       [ 35. ,   nan,   7.4,  85. ,   8. ,   5. ],\n",
       "       [ 66. ,   nan,   4.6,  87. ,   8. ,   6. ],\n",
       "       [122. , 255. ,   4. ,  89. ,   8. ,   7. ],\n",
       "       [ 89. , 229. ,  10.3,  90. ,   8. ,   8. ],\n",
       "       [110. , 207. ,   8. ,  90. ,   8. ,   9. ],\n",
       "       [ 44. , 192. ,  11.5,  86. ,   8. ,  12. ],\n",
       "       [ 28. , 273. ,  11.5,  82. ,   8. ,  13. ],\n",
       "       [ 65. , 157. ,   9.7,  80. ,   8. ,  14. ],\n",
       "       [ 22. ,  71. ,  10.3,  77. ,   8. ,  16. ],\n",
       "       [ 59. ,  51. ,   6.3,  79. ,   8. ,  17. ],\n",
       "       [ 23. , 115. ,   7.4,  76. ,   8. ,  18. ],\n",
       "       [ 31. , 244. ,  10.9,  78. ,   8. ,  19. ],\n",
       "       [ 44. , 190. ,  10.3,  78. ,   8. ,  20. ],\n",
       "       [ 21. , 259. ,  15.5,  77. ,   8. ,  21. ],\n",
       "       [  9. ,  36. ,  14.3,  72. ,   8. ,  22. ],\n",
       "       [ 45. , 212. ,   9.7,  79. ,   8. ,  24. ],\n",
       "       [ 73. , 215. ,   8. ,  86. ,   8. ,  26. ],\n",
       "       [ 76. , 203. ,   9.7,  97. ,   8. ,  28. ],\n",
       "       [118. , 225. ,   2.3,  94. ,   8. ,  29. ],\n",
       "       [ 84. , 237. ,   6.3,  96. ,   8. ,  30. ],\n",
       "       [ 85. , 188. ,   6.3,  94. ,   8. ,  31. ],\n",
       "       [ 96. , 167. ,   6.9,  91. ,   9. ,   1. ],\n",
       "       [ 78. , 197. ,   5.1,  92. ,   9. ,   2. ],\n",
       "       [ 73. , 183. ,   2.8,  93. ,   9. ,   3. ],\n",
       "       [ 91. , 189. ,   4.6,  93. ,   9. ,   4. ],\n",
       "       [ 47. ,  95. ,   7.4,  87. ,   9. ,   5. ],\n",
       "       [ 32. ,  92. ,  15.5,  84. ,   9. ,   6. ],\n",
       "       [ 20. , 252. ,  10.9,  80. ,   9. ,   7. ],\n",
       "       [ 23. , 220. ,  10.3,  78. ,   9. ,   8. ],\n",
       "       [ 21. , 230. ,  10.9,  75. ,   9. ,   9. ],\n",
       "       [ 24. , 259. ,   9.7,  73. ,   9. ,  10. ],\n",
       "       [ 44. , 236. ,  14.9,  81. ,   9. ,  11. ],\n",
       "       [ 21. , 259. ,  15.5,  76. ,   9. ,  12. ],\n",
       "       [ 28. , 238. ,   6.3,  77. ,   9. ,  13. ],\n",
       "       [  9. ,  24. ,  10.9,  71. ,   9. ,  14. ],\n",
       "       [ 13. , 112. ,  11.5,  71. ,   9. ,  15. ],\n",
       "       [ 46. , 237. ,   6.9,  78. ,   9. ,  16. ],\n",
       "       [ 18. , 224. ,  13.8,  67. ,   9. ,  17. ],\n",
       "       [ 13. ,  27. ,  10.3,  76. ,   9. ,  18. ],\n",
       "       [ 24. , 238. ,  10.3,  68. ,   9. ,  19. ],\n",
       "       [ 16. , 201. ,   8. ,  82. ,   9. ,  20. ],\n",
       "       [ 13. , 238. ,  12.6,  64. ,   9. ,  21. ],\n",
       "       [ 23. ,  14. ,   9.2,  71. ,   9. ,  22. ],\n",
       "       [ 36. , 139. ,  10.3,  81. ,   9. ,  23. ],\n",
       "       [  7. ,  49. ,  10.3,  69. ,   9. ,  24. ],\n",
       "       [ 14. ,  20. ,  16.6,  63. ,   9. ,  25. ],\n",
       "       [ 30. , 193. ,   6.9,  70. ,   9. ,  26. ],\n",
       "       [ 14. , 191. ,  14.3,  75. ,   9. ,  28. ],\n",
       "       [ 18. , 131. ,   8. ,  76. ,   9. ,  29. ],\n",
       "       [ 20. , 223. ,  11.5,  68. ,   9. ,   3. ]])"
      ]
     },
     "execution_count": 22,
     "metadata": {},
     "output_type": "execute_result"
    }
   ],
   "source": [
    "features"
   ]
  },
  {
   "cell_type": "code",
   "execution_count": 23,
   "id": "d1743c03",
   "metadata": {},
   "outputs": [],
   "source": [
    "from sklearn.impute import SimpleImputer\n",
    "imputer = SimpleImputer(missing_values=np.nan, strategy='mean')\n",
    "\n",
    "imputer.fit(features[:,[1]])\n",
    "features[:,[1]] = imputer.fit_transform(features[:,[1]])"
   ]
  },
  {
   "cell_type": "code",
   "execution_count": 24,
   "id": "69d00874",
   "metadata": {},
   "outputs": [
    {
     "data": {
      "text/plain": [
       "array([[ 41.        , 190.        ,   7.4       ,  67.        ,\n",
       "          5.        ,   1.        ],\n",
       "       [ 36.        , 118.        ,   8.        ,  72.        ,\n",
       "          5.        ,   2.        ],\n",
       "       [ 12.        , 149.        ,  12.6       ,  74.        ,\n",
       "          5.        ,   3.        ],\n",
       "       [ 18.        , 313.        ,  11.5       ,  62.        ,\n",
       "          5.        ,   4.        ],\n",
       "       [ 28.        , 185.14150943,  14.9       ,  66.        ,\n",
       "          5.        ,   6.        ],\n",
       "       [ 23.        , 299.        ,   8.6       ,  65.        ,\n",
       "          5.        ,   7.        ],\n",
       "       [ 19.        ,  99.        ,  13.8       ,  59.        ,\n",
       "          5.        ,   8.        ],\n",
       "       [  7.        , 185.14150943,   6.9       ,  74.        ,\n",
       "          5.        ,  11.        ],\n",
       "       [ 16.        , 256.        ,   9.7       ,  69.        ,\n",
       "          5.        ,  12.        ],\n",
       "       [ 11.        , 290.        ,   9.2       ,  66.        ,\n",
       "          5.        ,  13.        ],\n",
       "       [ 14.        , 274.        ,  10.9       ,  68.        ,\n",
       "          5.        ,  14.        ],\n",
       "       [ 18.        ,  65.        ,  13.2       ,  58.        ,\n",
       "          5.        ,  15.        ],\n",
       "       [ 14.        , 334.        ,  11.5       ,  64.        ,\n",
       "          5.        ,  16.        ],\n",
       "       [ 34.        , 307.        ,  12.        ,  66.        ,\n",
       "          5.        ,  17.        ],\n",
       "       [ 30.        , 322.        ,  11.5       ,  68.        ,\n",
       "          5.        ,  19.        ],\n",
       "       [ 11.        ,  44.        ,   9.7       ,  62.        ,\n",
       "          5.        ,  20.        ],\n",
       "       [  1.        ,   8.        ,   9.7       ,  59.        ,\n",
       "          5.        ,  21.        ],\n",
       "       [ 11.        , 320.        ,  16.6       ,  73.        ,\n",
       "          5.        ,  22.        ],\n",
       "       [  4.        ,  25.        ,   9.7       ,  61.        ,\n",
       "          5.        ,  23.        ],\n",
       "       [ 32.        ,  92.        ,  12.        ,  61.        ,\n",
       "          5.        ,  24.        ],\n",
       "       [ 23.        ,  13.        ,  12.        ,  67.        ,\n",
       "          5.        ,  28.        ],\n",
       "       [ 45.        , 252.        ,  14.9       ,  81.        ,\n",
       "          5.        ,  29.        ],\n",
       "       [115.        , 223.        ,   5.7       ,  79.        ,\n",
       "          5.        ,  30.        ],\n",
       "       [ 37.        , 279.        ,   7.4       ,  76.        ,\n",
       "          5.        ,  31.        ],\n",
       "       [ 29.        , 127.        ,   9.7       ,  82.        ,\n",
       "          6.        ,   7.        ],\n",
       "       [ 71.        , 291.        ,  13.8       ,  90.        ,\n",
       "          6.        ,   9.        ],\n",
       "       [ 39.        , 323.        ,  11.5       ,  87.        ,\n",
       "          6.        ,  10.        ],\n",
       "       [ 23.        , 148.        ,   8.        ,  82.        ,\n",
       "          6.        ,  13.        ],\n",
       "       [ 21.        , 191.        ,  14.9       ,  77.        ,\n",
       "          6.        ,  16.        ],\n",
       "       [ 20.        ,  37.        ,   9.2       ,  65.        ,\n",
       "          6.        ,  18.        ],\n",
       "       [ 12.        , 120.        ,  11.5       ,  73.        ,\n",
       "          6.        ,  19.        ],\n",
       "       [ 13.        , 137.        ,  10.3       ,  76.        ,\n",
       "          6.        ,  20.        ],\n",
       "       [ 49.        , 248.        ,   9.2       ,  85.        ,\n",
       "          7.        ,   2.        ],\n",
       "       [ 32.        , 236.        ,   9.2       ,  81.        ,\n",
       "          7.        ,   3.        ],\n",
       "       [ 64.        , 175.        ,   4.6       ,  83.        ,\n",
       "          7.        ,   5.        ],\n",
       "       [ 40.        , 314.        ,  10.9       ,  83.        ,\n",
       "          7.        ,   6.        ],\n",
       "       [ 77.        , 276.        ,   5.1       ,  88.        ,\n",
       "          7.        ,   7.        ],\n",
       "       [ 97.        , 267.        ,   6.3       ,  92.        ,\n",
       "          7.        ,   8.        ],\n",
       "       [ 97.        , 272.        ,   5.7       ,  92.        ,\n",
       "          7.        ,   9.        ],\n",
       "       [ 85.        , 175.        ,   7.4       ,  89.        ,\n",
       "          7.        ,  10.        ],\n",
       "       [ 10.        , 264.        ,  14.3       ,  73.        ,\n",
       "          7.        ,  12.        ],\n",
       "       [ 27.        , 175.        ,  14.9       ,  81.        ,\n",
       "          7.        ,  13.        ],\n",
       "       [  7.        ,  48.        ,  14.3       ,  80.        ,\n",
       "          7.        ,  15.        ],\n",
       "       [ 48.        , 260.        ,   6.9       ,  81.        ,\n",
       "          7.        ,  16.        ],\n",
       "       [ 35.        , 274.        ,  10.3       ,  82.        ,\n",
       "          7.        ,  17.        ],\n",
       "       [ 61.        , 285.        ,   6.3       ,  84.        ,\n",
       "          7.        ,  18.        ],\n",
       "       [ 79.        , 187.        ,   5.1       ,  87.        ,\n",
       "          7.        ,  19.        ],\n",
       "       [ 63.        , 220.        ,  11.5       ,  85.        ,\n",
       "          7.        ,  20.        ],\n",
       "       [ 16.        ,   7.        ,   6.9       ,  74.        ,\n",
       "          7.        ,  21.        ],\n",
       "       [ 80.        , 294.        ,   8.6       ,  86.        ,\n",
       "          7.        ,  24.        ],\n",
       "       [108.        , 223.        ,   8.        ,  85.        ,\n",
       "          7.        ,  25.        ],\n",
       "       [ 20.        ,  81.        ,   8.6       ,  82.        ,\n",
       "          7.        ,  26.        ],\n",
       "       [ 52.        ,  82.        ,  12.        ,  86.        ,\n",
       "          7.        ,  27.        ],\n",
       "       [ 82.        , 213.        ,   7.4       ,  88.        ,\n",
       "          7.        ,  28.        ],\n",
       "       [ 50.        , 275.        ,   7.4       ,  86.        ,\n",
       "          7.        ,  29.        ],\n",
       "       [ 64.        , 253.        ,   7.4       ,  83.        ,\n",
       "          7.        ,  30.        ],\n",
       "       [ 59.        , 254.        ,   9.2       ,  81.        ,\n",
       "          7.        ,  31.        ],\n",
       "       [ 39.        ,  83.        ,   6.9       ,  81.        ,\n",
       "          8.        ,   1.        ],\n",
       "       [  9.        ,  24.        ,  13.8       ,  81.        ,\n",
       "          8.        ,   2.        ],\n",
       "       [ 16.        ,  77.        ,   7.4       ,  82.        ,\n",
       "          8.        ,   3.        ],\n",
       "       [ 78.        , 185.14150943,   6.9       ,  86.        ,\n",
       "          8.        ,   4.        ],\n",
       "       [ 35.        , 185.14150943,   7.4       ,  85.        ,\n",
       "          8.        ,   5.        ],\n",
       "       [ 66.        , 185.14150943,   4.6       ,  87.        ,\n",
       "          8.        ,   6.        ],\n",
       "       [122.        , 255.        ,   4.        ,  89.        ,\n",
       "          8.        ,   7.        ],\n",
       "       [ 89.        , 229.        ,  10.3       ,  90.        ,\n",
       "          8.        ,   8.        ],\n",
       "       [110.        , 207.        ,   8.        ,  90.        ,\n",
       "          8.        ,   9.        ],\n",
       "       [ 44.        , 192.        ,  11.5       ,  86.        ,\n",
       "          8.        ,  12.        ],\n",
       "       [ 28.        , 273.        ,  11.5       ,  82.        ,\n",
       "          8.        ,  13.        ],\n",
       "       [ 65.        , 157.        ,   9.7       ,  80.        ,\n",
       "          8.        ,  14.        ],\n",
       "       [ 22.        ,  71.        ,  10.3       ,  77.        ,\n",
       "          8.        ,  16.        ],\n",
       "       [ 59.        ,  51.        ,   6.3       ,  79.        ,\n",
       "          8.        ,  17.        ],\n",
       "       [ 23.        , 115.        ,   7.4       ,  76.        ,\n",
       "          8.        ,  18.        ],\n",
       "       [ 31.        , 244.        ,  10.9       ,  78.        ,\n",
       "          8.        ,  19.        ],\n",
       "       [ 44.        , 190.        ,  10.3       ,  78.        ,\n",
       "          8.        ,  20.        ],\n",
       "       [ 21.        , 259.        ,  15.5       ,  77.        ,\n",
       "          8.        ,  21.        ],\n",
       "       [  9.        ,  36.        ,  14.3       ,  72.        ,\n",
       "          8.        ,  22.        ],\n",
       "       [ 45.        , 212.        ,   9.7       ,  79.        ,\n",
       "          8.        ,  24.        ],\n",
       "       [ 73.        , 215.        ,   8.        ,  86.        ,\n",
       "          8.        ,  26.        ],\n",
       "       [ 76.        , 203.        ,   9.7       ,  97.        ,\n",
       "          8.        ,  28.        ],\n",
       "       [118.        , 225.        ,   2.3       ,  94.        ,\n",
       "          8.        ,  29.        ],\n",
       "       [ 84.        , 237.        ,   6.3       ,  96.        ,\n",
       "          8.        ,  30.        ],\n",
       "       [ 85.        , 188.        ,   6.3       ,  94.        ,\n",
       "          8.        ,  31.        ],\n",
       "       [ 96.        , 167.        ,   6.9       ,  91.        ,\n",
       "          9.        ,   1.        ],\n",
       "       [ 78.        , 197.        ,   5.1       ,  92.        ,\n",
       "          9.        ,   2.        ],\n",
       "       [ 73.        , 183.        ,   2.8       ,  93.        ,\n",
       "          9.        ,   3.        ],\n",
       "       [ 91.        , 189.        ,   4.6       ,  93.        ,\n",
       "          9.        ,   4.        ],\n",
       "       [ 47.        ,  95.        ,   7.4       ,  87.        ,\n",
       "          9.        ,   5.        ],\n",
       "       [ 32.        ,  92.        ,  15.5       ,  84.        ,\n",
       "          9.        ,   6.        ],\n",
       "       [ 20.        , 252.        ,  10.9       ,  80.        ,\n",
       "          9.        ,   7.        ],\n",
       "       [ 23.        , 220.        ,  10.3       ,  78.        ,\n",
       "          9.        ,   8.        ],\n",
       "       [ 21.        , 230.        ,  10.9       ,  75.        ,\n",
       "          9.        ,   9.        ],\n",
       "       [ 24.        , 259.        ,   9.7       ,  73.        ,\n",
       "          9.        ,  10.        ],\n",
       "       [ 44.        , 236.        ,  14.9       ,  81.        ,\n",
       "          9.        ,  11.        ],\n",
       "       [ 21.        , 259.        ,  15.5       ,  76.        ,\n",
       "          9.        ,  12.        ],\n",
       "       [ 28.        , 238.        ,   6.3       ,  77.        ,\n",
       "          9.        ,  13.        ],\n",
       "       [  9.        ,  24.        ,  10.9       ,  71.        ,\n",
       "          9.        ,  14.        ],\n",
       "       [ 13.        , 112.        ,  11.5       ,  71.        ,\n",
       "          9.        ,  15.        ],\n",
       "       [ 46.        , 237.        ,   6.9       ,  78.        ,\n",
       "          9.        ,  16.        ],\n",
       "       [ 18.        , 224.        ,  13.8       ,  67.        ,\n",
       "          9.        ,  17.        ],\n",
       "       [ 13.        ,  27.        ,  10.3       ,  76.        ,\n",
       "          9.        ,  18.        ],\n",
       "       [ 24.        , 238.        ,  10.3       ,  68.        ,\n",
       "          9.        ,  19.        ],\n",
       "       [ 16.        , 201.        ,   8.        ,  82.        ,\n",
       "          9.        ,  20.        ],\n",
       "       [ 13.        , 238.        ,  12.6       ,  64.        ,\n",
       "          9.        ,  21.        ],\n",
       "       [ 23.        ,  14.        ,   9.2       ,  71.        ,\n",
       "          9.        ,  22.        ],\n",
       "       [ 36.        , 139.        ,  10.3       ,  81.        ,\n",
       "          9.        ,  23.        ],\n",
       "       [  7.        ,  49.        ,  10.3       ,  69.        ,\n",
       "          9.        ,  24.        ],\n",
       "       [ 14.        ,  20.        ,  16.6       ,  63.        ,\n",
       "          9.        ,  25.        ],\n",
       "       [ 30.        , 193.        ,   6.9       ,  70.        ,\n",
       "          9.        ,  26.        ],\n",
       "       [ 14.        , 191.        ,  14.3       ,  75.        ,\n",
       "          9.        ,  28.        ],\n",
       "       [ 18.        , 131.        ,   8.        ,  76.        ,\n",
       "          9.        ,  29.        ],\n",
       "       [ 20.        , 223.        ,  11.5       ,  68.        ,\n",
       "          9.        ,   3.        ]])"
      ]
     },
     "execution_count": 24,
     "metadata": {},
     "output_type": "execute_result"
    }
   ],
   "source": [
    "features"
   ]
  },
  {
   "cell_type": "code",
   "execution_count": 25,
   "id": "0677c289",
   "metadata": {},
   "outputs": [
    {
     "data": {
      "text/html": [
       "<div>\n",
       "<style scoped>\n",
       "    .dataframe tbody tr th:only-of-type {\n",
       "        vertical-align: middle;\n",
       "    }\n",
       "\n",
       "    .dataframe tbody tr th {\n",
       "        vertical-align: top;\n",
       "    }\n",
       "\n",
       "    .dataframe thead th {\n",
       "        text-align: right;\n",
       "    }\n",
       "</style>\n",
       "<table border=\"1\" class=\"dataframe\">\n",
       "  <thead>\n",
       "    <tr style=\"text-align: right;\">\n",
       "      <th></th>\n",
       "      <th>0</th>\n",
       "      <th>1</th>\n",
       "      <th>2</th>\n",
       "      <th>3</th>\n",
       "      <th>4</th>\n",
       "      <th>5</th>\n",
       "    </tr>\n",
       "  </thead>\n",
       "  <tbody>\n",
       "    <tr>\n",
       "      <th>0</th>\n",
       "      <td>41.0</td>\n",
       "      <td>190.000000</td>\n",
       "      <td>7.4</td>\n",
       "      <td>67.0</td>\n",
       "      <td>5.0</td>\n",
       "      <td>1.0</td>\n",
       "    </tr>\n",
       "    <tr>\n",
       "      <th>1</th>\n",
       "      <td>36.0</td>\n",
       "      <td>118.000000</td>\n",
       "      <td>8.0</td>\n",
       "      <td>72.0</td>\n",
       "      <td>5.0</td>\n",
       "      <td>2.0</td>\n",
       "    </tr>\n",
       "    <tr>\n",
       "      <th>2</th>\n",
       "      <td>12.0</td>\n",
       "      <td>149.000000</td>\n",
       "      <td>12.6</td>\n",
       "      <td>74.0</td>\n",
       "      <td>5.0</td>\n",
       "      <td>3.0</td>\n",
       "    </tr>\n",
       "    <tr>\n",
       "      <th>3</th>\n",
       "      <td>18.0</td>\n",
       "      <td>313.000000</td>\n",
       "      <td>11.5</td>\n",
       "      <td>62.0</td>\n",
       "      <td>5.0</td>\n",
       "      <td>4.0</td>\n",
       "    </tr>\n",
       "    <tr>\n",
       "      <th>4</th>\n",
       "      <td>28.0</td>\n",
       "      <td>185.141509</td>\n",
       "      <td>14.9</td>\n",
       "      <td>66.0</td>\n",
       "      <td>5.0</td>\n",
       "      <td>6.0</td>\n",
       "    </tr>\n",
       "    <tr>\n",
       "      <th>...</th>\n",
       "      <td>...</td>\n",
       "      <td>...</td>\n",
       "      <td>...</td>\n",
       "      <td>...</td>\n",
       "      <td>...</td>\n",
       "      <td>...</td>\n",
       "    </tr>\n",
       "    <tr>\n",
       "      <th>106</th>\n",
       "      <td>14.0</td>\n",
       "      <td>20.000000</td>\n",
       "      <td>16.6</td>\n",
       "      <td>63.0</td>\n",
       "      <td>9.0</td>\n",
       "      <td>25.0</td>\n",
       "    </tr>\n",
       "    <tr>\n",
       "      <th>107</th>\n",
       "      <td>30.0</td>\n",
       "      <td>193.000000</td>\n",
       "      <td>6.9</td>\n",
       "      <td>70.0</td>\n",
       "      <td>9.0</td>\n",
       "      <td>26.0</td>\n",
       "    </tr>\n",
       "    <tr>\n",
       "      <th>108</th>\n",
       "      <td>14.0</td>\n",
       "      <td>191.000000</td>\n",
       "      <td>14.3</td>\n",
       "      <td>75.0</td>\n",
       "      <td>9.0</td>\n",
       "      <td>28.0</td>\n",
       "    </tr>\n",
       "    <tr>\n",
       "      <th>109</th>\n",
       "      <td>18.0</td>\n",
       "      <td>131.000000</td>\n",
       "      <td>8.0</td>\n",
       "      <td>76.0</td>\n",
       "      <td>9.0</td>\n",
       "      <td>29.0</td>\n",
       "    </tr>\n",
       "    <tr>\n",
       "      <th>110</th>\n",
       "      <td>20.0</td>\n",
       "      <td>223.000000</td>\n",
       "      <td>11.5</td>\n",
       "      <td>68.0</td>\n",
       "      <td>9.0</td>\n",
       "      <td>3.0</td>\n",
       "    </tr>\n",
       "  </tbody>\n",
       "</table>\n",
       "<p>111 rows × 6 columns</p>\n",
       "</div>"
      ],
      "text/plain": [
       "        0           1     2     3    4     5\n",
       "0    41.0  190.000000   7.4  67.0  5.0   1.0\n",
       "1    36.0  118.000000   8.0  72.0  5.0   2.0\n",
       "2    12.0  149.000000  12.6  74.0  5.0   3.0\n",
       "3    18.0  313.000000  11.5  62.0  5.0   4.0\n",
       "4    28.0  185.141509  14.9  66.0  5.0   6.0\n",
       "..    ...         ...   ...   ...  ...   ...\n",
       "106  14.0   20.000000  16.6  63.0  9.0  25.0\n",
       "107  30.0  193.000000   6.9  70.0  9.0  26.0\n",
       "108  14.0  191.000000  14.3  75.0  9.0  28.0\n",
       "109  18.0  131.000000   8.0  76.0  9.0  29.0\n",
       "110  20.0  223.000000  11.5  68.0  9.0   3.0\n",
       "\n",
       "[111 rows x 6 columns]"
      ]
     },
     "execution_count": 25,
     "metadata": {},
     "output_type": "execute_result"
    }
   ],
   "source": [
    "df1 = pd.DataFrame(features)\n",
    "df1"
   ]
  },
  {
   "cell_type": "code",
   "execution_count": 26,
   "id": "f75e1bfb",
   "metadata": {},
   "outputs": [
    {
     "data": {
      "text/plain": [
       "0    0\n",
       "1    0\n",
       "2    0\n",
       "3    0\n",
       "4    0\n",
       "5    0\n",
       "dtype: int64"
      ]
     },
     "execution_count": 26,
     "metadata": {},
     "output_type": "execute_result"
    }
   ],
   "source": [
    "df1.apply(lambda x:sum(x.isnull()),axis=0)"
   ]
  },
  {
   "cell_type": "code",
   "execution_count": 27,
   "id": "02981b2a",
   "metadata": {},
   "outputs": [
    {
     "data": {
      "text/plain": [
       "<AxesSubplot:>"
      ]
     },
     "execution_count": 27,
     "metadata": {},
     "output_type": "execute_result"
    },
    {
     "data": {
      "image/png": "[encoded data removed]",
      "text/plain": [
       "<Figure size 432x288 with 1 Axes>"
      ]
     },
     "metadata": {
      "needs_background": "light"
     },
     "output_type": "display_data"
    }
   ],
   "source": [
    "df.boxplot(\"Ozone\")"
   ]
  },
  {
   "cell_type": "code",
   "execution_count": 28,
   "id": "30212f8e",
   "metadata": {},
   "outputs": [
    {
     "data": {
      "text/plain": [
       "<AxesSubplot:xlabel='Ozone'>"
      ]
     },
     "execution_count": 28,
     "metadata": {},
     "output_type": "execute_result"
    },
    {
     "data": {
      "image/png": "[encoded data removed]",
      "text/plain": [
       "<Figure size 432x288 with 1 Axes>"
      ]
     },
     "metadata": {
      "needs_background": "light"
     },
     "output_type": "display_data"
    }
   ],
   "source": [
    "sns.boxplot(data=df,x=df[\"Ozone\"])"
   ]
  },
  {
   "cell_type": "code",
   "execution_count": 29,
   "id": "31308051",
   "metadata": {},
   "outputs": [
    {
     "data": {
      "text/plain": [
       "0      41.0\n",
       "1      36.0\n",
       "2      12.0\n",
       "3      18.0\n",
       "4      28.0\n",
       "       ... \n",
       "106    14.0\n",
       "107    30.0\n",
       "108    14.0\n",
       "109    18.0\n",
       "110    20.0\n",
       "Name: 0, Length: 111, dtype: float64"
      ]
     },
     "execution_count": 29,
     "metadata": {},
     "output_type": "execute_result"
    }
   ],
   "source": [
    "ozone=df1[0]\n",
    "ozone"
   ]
  },
  {
   "cell_type": "code",
   "execution_count": 30,
   "id": "8333f155",
   "metadata": {},
   "outputs": [
    {
     "data": {
      "text/plain": [
       "0      190.000000\n",
       "1      118.000000\n",
       "2      149.000000\n",
       "3      313.000000\n",
       "4      185.141509\n",
       "          ...    \n",
       "106     20.000000\n",
       "107    193.000000\n",
       "108    191.000000\n",
       "109    131.000000\n",
       "110    223.000000\n",
       "Name: 1, Length: 111, dtype: float64"
      ]
     },
     "execution_count": 30,
     "metadata": {},
     "output_type": "execute_result"
    }
   ],
   "source": [
    "solarR=df1[1]\n",
    "solarR"
   ]
  },
  {
   "cell_type": "code",
   "execution_count": 31,
   "id": "adde41e3",
   "metadata": {},
   "outputs": [
    {
     "data": {
      "text/plain": [
       "0       7.4\n",
       "1       8.0\n",
       "2      12.6\n",
       "3      11.5\n",
       "4      14.9\n",
       "       ... \n",
       "106    16.6\n",
       "107     6.9\n",
       "108    14.3\n",
       "109     8.0\n",
       "110    11.5\n",
       "Name: 2, Length: 111, dtype: float64"
      ]
     },
     "execution_count": 31,
     "metadata": {},
     "output_type": "execute_result"
    }
   ],
   "source": [
    "wind=df1[2]\n",
    "wind"
   ]
  },
  {
   "cell_type": "code",
   "execution_count": 32,
   "id": "76124e7d",
   "metadata": {},
   "outputs": [
    {
     "data": {
      "text/plain": [
       "0      67.0\n",
       "1      72.0\n",
       "2      74.0\n",
       "3      62.0\n",
       "4      66.0\n",
       "       ... \n",
       "106    63.0\n",
       "107    70.0\n",
       "108    75.0\n",
       "109    76.0\n",
       "110    68.0\n",
       "Name: 3, Length: 111, dtype: float64"
      ]
     },
     "execution_count": 32,
     "metadata": {},
     "output_type": "execute_result"
    }
   ],
   "source": [
    "temp=df1[3]\n",
    "temp"
   ]
  },
  {
   "cell_type": "code",
   "execution_count": 33,
   "id": "a93d2296",
   "metadata": {},
   "outputs": [
    {
     "data": {
      "text/plain": [
       "0      5.0\n",
       "1      5.0\n",
       "2      5.0\n",
       "3      5.0\n",
       "4      5.0\n",
       "      ... \n",
       "106    9.0\n",
       "107    9.0\n",
       "108    9.0\n",
       "109    9.0\n",
       "110    9.0\n",
       "Name: 4, Length: 111, dtype: float64"
      ]
     },
     "execution_count": 33,
     "metadata": {},
     "output_type": "execute_result"
    }
   ],
   "source": [
    "month=df1[4]\n",
    "month"
   ]
  },
  {
   "cell_type": "code",
   "execution_count": 34,
   "id": "eb686fd7",
   "metadata": {},
   "outputs": [
    {
     "data": {
      "text/plain": [
       "0       1.0\n",
       "1       2.0\n",
       "2       3.0\n",
       "3       4.0\n",
       "4       6.0\n",
       "       ... \n",
       "106    25.0\n",
       "107    26.0\n",
       "108    28.0\n",
       "109    29.0\n",
       "110     3.0\n",
       "Name: 5, Length: 111, dtype: float64"
      ]
     },
     "execution_count": 34,
     "metadata": {},
     "output_type": "execute_result"
    }
   ],
   "source": [
    "day=df1[5]\n",
    "day"
   ]
  },
  {
   "cell_type": "markdown",
   "id": "0ac80f28",
   "metadata": {},
   "source": [
    "Lets plot our data on scatter plot for further study."
   ]
  },
  {
   "cell_type": "code",
   "execution_count": 35,
   "id": "1b4bc8c6",
   "metadata": {},
   "outputs": [
    {
     "data": {
      "text/plain": [
       "Text(0.5, 0, 'Solar.R')"
      ]
     },
     "execution_count": 35,
     "metadata": {},
     "output_type": "execute_result"
    },
    {
     "data": {
      "image/png": "[encoded data removed]",
      "text/plain": [
       "<Figure size 432x288 with 1 Axes>"
      ]
     },
     "metadata": {
      "needs_background": "light"
     },
     "output_type": "display_data"
    }
   ],
   "source": [
    "import matplotlib.pyplot as plt\n",
    "%matplotlib inline\n",
    "plt.plot(solarR,ozone,'o')\n",
    "plt.ylabel(\"Ozone\")\n",
    "plt.xlabel(\"Solar.R\")"
   ]
  },
  {
   "cell_type": "markdown",
   "id": "32ba96a2",
   "metadata": {},
   "source": [
    "Here we can see that ozone depletion is low when solar radiation are low,and as the intensity of solar radiation increases to the right,ozone depletion is affect at large.\n",
    "so we can assume that Solar Radiation has a + co relation with solar radiation."
   ]
  },
  {
   "cell_type": "code",
   "execution_count": 36,
   "id": "9ed461c7",
   "metadata": {},
   "outputs": [
    {
     "data": {
      "text/plain": [
       "Text(0.5, 0, 'Wind')"
      ]
     },
     "execution_count": 36,
     "metadata": {},
     "output_type": "execute_result"
    },
    {
     "data": {
      "image/png": "[encoded data removed]",
      "text/plain": [
       "<Figure size 432x288 with 1 Axes>"
      ]
     },
     "metadata": {
      "needs_background": "light"
     },
     "output_type": "display_data"
    }
   ],
   "source": [
    "import matplotlib.pyplot as plt\n",
    "%matplotlib inline\n",
    "plt.plot(wind,ozone,'o')\n",
    "plt.ylabel(\"Ozone\")\n",
    "plt.xlabel(\"Wind\")"
   ]
  },
  {
   "cell_type": "markdown",
   "id": "1fe768a0",
   "metadata": {},
   "source": [
    "here we can see that at slower wind,solar depletion is high as compared to when wind is fast,the density of scaterness increses with inc in wind speed and we can assume that it has a -ve corr ."
   ]
  },
  {
   "cell_type": "code",
   "execution_count": 37,
   "id": "47c46c5b",
   "metadata": {},
   "outputs": [
    {
     "data": {
      "text/plain": [
       "Text(0.5, 0, 'Temp')"
      ]
     },
     "execution_count": 37,
     "metadata": {},
     "output_type": "execute_result"
    },
    {
     "data": {
      "image/png": "[encoded data removed]",
      "text/plain": [
       "<Figure size 432x288 with 1 Axes>"
      ]
     },
     "metadata": {
      "needs_background": "light"
     },
     "output_type": "display_data"
    }
   ],
   "source": [
    "import matplotlib.pyplot as plt\n",
    "%matplotlib inline\n",
    "plt.plot(temp,ozone,'o')\n",
    "plt.ylabel(\"Ozone\")\n",
    "plt.xlabel(\"Temp\")"
   ]
  },
  {
   "cell_type": "raw",
   "id": "e7844bd9",
   "metadata": {},
   "source": [
    "here a small glimps of linear relation can be seen,nd a +ve corr also,as with inc in temp,ozone depletion also increases though there are some scattered points away from imaginary straight line."
   ]
  },
  {
   "cell_type": "code",
   "execution_count": 38,
   "id": "e46f9aa5",
   "metadata": {},
   "outputs": [
    {
     "data": {
      "text/plain": [
       "Text(0.5, 0, 'Month')"
      ]
     },
     "execution_count": 38,
     "metadata": {},
     "output_type": "execute_result"
    },
    {
     "data": {
      "image/png": "[encoded data removed]",
      "text/plain": [
       "<Figure size 432x288 with 1 Axes>"
      ]
     },
     "metadata": {
      "needs_background": "light"
     },
     "output_type": "display_data"
    }
   ],
   "source": [
    "import matplotlib.pyplot as plt\n",
    "%matplotlib inline\n",
    "plt.plot(month,ozone,'o')\n",
    "plt.ylabel(\"Ozone\")\n",
    "plt.xlabel(\"Month\")"
   ]
  },
  {
   "cell_type": "code",
   "execution_count": 39,
   "id": "a5025da7",
   "metadata": {},
   "outputs": [
    {
     "data": {
      "text/plain": [
       "Text(0.5, 0, 'Day')"
      ]
     },
     "execution_count": 39,
     "metadata": {},
     "output_type": "execute_result"
    },
    {
     "data": {
      "image/png": "[encoded data removed]",
      "text/plain": [
       "<Figure size 432x288 with 1 Axes>"
      ]
     },
     "metadata": {
      "needs_background": "light"
     },
     "output_type": "display_data"
    }
   ],
   "source": [
    "import matplotlib.pyplot as plt\n",
    "%matplotlib inline\n",
    "plt.plot(day,ozone,'o')\n",
    "plt.ylabel(\"Ozone\")\n",
    "plt.xlabel(\"Day\")"
   ]
  },
  {
   "cell_type": "markdown",
   "id": "b7ddb4ba",
   "metadata": {},
   "source": [
    "#Lets study first the trend of ozone depletion with Other predictors and try make a predictive model"
   ]
  },
  {
   "cell_type": "code",
   "execution_count": 40,
   "id": "a01a7b8d",
   "metadata": {},
   "outputs": [
    {
     "data": {
      "text/html": [
       "<div>\n",
       "<style scoped>\n",
       "    .dataframe tbody tr th:only-of-type {\n",
       "        vertical-align: middle;\n",
       "    }\n",
       "\n",
       "    .dataframe tbody tr th {\n",
       "        vertical-align: top;\n",
       "    }\n",
       "\n",
       "    .dataframe thead th {\n",
       "        text-align: right;\n",
       "    }\n",
       "</style>\n",
       "<table border=\"1\" class=\"dataframe\">\n",
       "  <thead>\n",
       "    <tr style=\"text-align: right;\">\n",
       "      <th></th>\n",
       "      <th>Ozone</th>\n",
       "      <th>Solar.R</th>\n",
       "      <th>Wind</th>\n",
       "      <th>Temp</th>\n",
       "      <th>Month</th>\n",
       "      <th>Day</th>\n",
       "    </tr>\n",
       "  </thead>\n",
       "  <tbody>\n",
       "    <tr>\n",
       "      <th>Ozone</th>\n",
       "      <td>1.000000</td>\n",
       "      <td>0.326011</td>\n",
       "      <td>-0.590170</td>\n",
       "      <td>0.747594</td>\n",
       "      <td>0.141585</td>\n",
       "      <td>0.005769</td>\n",
       "    </tr>\n",
       "    <tr>\n",
       "      <th>Solar.R</th>\n",
       "      <td>0.326011</td>\n",
       "      <td>1.000000</td>\n",
       "      <td>-0.073419</td>\n",
       "      <td>0.259149</td>\n",
       "      <td>-0.115142</td>\n",
       "      <td>-0.076747</td>\n",
       "    </tr>\n",
       "    <tr>\n",
       "      <th>Wind</th>\n",
       "      <td>-0.590170</td>\n",
       "      <td>-0.073419</td>\n",
       "      <td>1.000000</td>\n",
       "      <td>-0.469268</td>\n",
       "      <td>-0.129152</td>\n",
       "      <td>0.068960</td>\n",
       "    </tr>\n",
       "    <tr>\n",
       "      <th>Temp</th>\n",
       "      <td>0.747594</td>\n",
       "      <td>0.259149</td>\n",
       "      <td>-0.469268</td>\n",
       "      <td>1.000000</td>\n",
       "      <td>0.388085</td>\n",
       "      <td>-0.081383</td>\n",
       "    </tr>\n",
       "    <tr>\n",
       "      <th>Month</th>\n",
       "      <td>0.141585</td>\n",
       "      <td>-0.115142</td>\n",
       "      <td>-0.129152</td>\n",
       "      <td>0.388085</td>\n",
       "      <td>1.000000</td>\n",
       "      <td>-0.050692</td>\n",
       "    </tr>\n",
       "    <tr>\n",
       "      <th>Day</th>\n",
       "      <td>0.005769</td>\n",
       "      <td>-0.076747</td>\n",
       "      <td>0.068960</td>\n",
       "      <td>-0.081383</td>\n",
       "      <td>-0.050692</td>\n",
       "      <td>1.000000</td>\n",
       "    </tr>\n",
       "  </tbody>\n",
       "</table>\n",
       "</div>"
      ],
      "text/plain": [
       "            Ozone   Solar.R      Wind      Temp     Month       Day\n",
       "Ozone    1.000000  0.326011 -0.590170  0.747594  0.141585  0.005769\n",
       "Solar.R  0.326011  1.000000 -0.073419  0.259149 -0.115142 -0.076747\n",
       "Wind    -0.590170 -0.073419  1.000000 -0.469268 -0.129152  0.068960\n",
       "Temp     0.747594  0.259149 -0.469268  1.000000  0.388085 -0.081383\n",
       "Month    0.141585 -0.115142 -0.129152  0.388085  1.000000 -0.050692\n",
       "Day      0.005769 -0.076747  0.068960 -0.081383 -0.050692  1.000000"
      ]
     },
     "execution_count": 40,
     "metadata": {},
     "output_type": "execute_result"
    }
   ],
   "source": [
    "df.corr()"
   ]
  },
  {
   "cell_type": "code",
   "execution_count": 41,
   "id": "b38b1ab1",
   "metadata": {},
   "outputs": [
    {
     "data": {
      "text/plain": [
       "<AxesSubplot:>"
      ]
     },
     "execution_count": 41,
     "metadata": {},
     "output_type": "execute_result"
    },
    {
     "data": {
      "image/png": "[encoded data removed]",
      "text/plain": [
       "<Figure size 432x288 with 2 Axes>"
      ]
     },
     "metadata": {
      "needs_background": "light"
     },
     "output_type": "display_data"
    }
   ],
   "source": [
    "corr = df.corr()\n",
    "sns.heatmap(corr,xticklabels=corr.columns,yticklabels=corr.columns)"
   ]
  },
  {
   "cell_type": "raw",
   "id": "9eeae0d5",
   "metadata": {},
   "source": [
    "here we can observe the following points considering ozone depletion(Target Variable):\n",
    "-There is a weak +ve corr of ozone depletion with Solar radiation i.e. 0.326\n",
    "-A very stong +ve corr can be seen with Temp i.e +0.747\n",
    "-a stong -ve corr with Wind\n",
    "-very Weak +ve corr with Month and day "
   ]
  },
  {
   "cell_type": "code",
   "execution_count": null,
   "id": "12e0a3c4",
   "metadata": {},
   "outputs": [],
   "source": []
  },
  {
   "cell_type": "markdown",
   "id": "b42bc79a",
   "metadata": {},
   "source": [
    "### Lets start building predictive model with Temp."
   ]
  },
  {
   "cell_type": "code",
   "execution_count": 42,
   "id": "e1d05610",
   "metadata": {},
   "outputs": [
    {
     "data": {
      "text/plain": [
       "40.83783783783784"
      ]
     },
     "execution_count": 42,
     "metadata": {},
     "output_type": "execute_result"
    }
   ],
   "source": [
    "mean_ozone=df[\"Ozone\"].mean()\n",
    "mean_ozone"
   ]
  },
  {
   "cell_type": "code",
   "execution_count": 43,
   "id": "2c018766",
   "metadata": {},
   "outputs": [
    {
     "data": {
      "image/png": "[encoded data removed]",
      "text/plain": [
       "<Figure size 432x288 with 1 Axes>"
      ]
     },
     "metadata": {
      "needs_background": "light"
     },
     "output_type": "display_data"
    }
   ],
   "source": [
    "plt.plot(temp,ozone,'o')\n",
    "plt.ylabel(\"ozone\")\n",
    "plt.xlabel(\"Temperature\")\n",
    "plt.axhline(mean_ozone, color='r', linestyle='-')\n",
    "plt.show()"
   ]
  },
  {
   "cell_type": "code",
   "execution_count": 44,
   "id": "0a13b192",
   "metadata": {},
   "outputs": [],
   "source": [
    "#odinary least square OLS methods\n",
    "import statsmodels.api as sm"
   ]
  },
  {
   "cell_type": "code",
   "execution_count": 45,
   "id": "e0b4d349",
   "metadata": {},
   "outputs": [
    {
     "data": {
      "text/html": [
       "<table class=\"simpletable\">\n",
       "<caption>OLS Regression Results</caption>\n",
       "<tr>\n",
       "  <th>Dep. Variable:</th>            <td>y</td>        <th>  R-squared (uncentered):</th>      <td>   0.731</td>\n",
       "</tr>\n",
       "<tr>\n",
       "  <th>Model:</th>                   <td>OLS</td>       <th>  Adj. R-squared (uncentered):</th> <td>   0.728</td>\n",
       "</tr>\n",
       "<tr>\n",
       "  <th>Method:</th>             <td>Least Squares</td>  <th>  F-statistic:       </th>          <td>   298.4</td>\n",
       "</tr>\n",
       "<tr>\n",
       "  <th>Date:</th>             <td>Mon, 05 Jul 2021</td> <th>  Prob (F-statistic):</th>          <td>4.12e-33</td>\n",
       "</tr>\n",
       "<tr>\n",
       "  <th>Time:</th>                 <td>18:55:18</td>     <th>  Log-Likelihood:    </th>          <td> -520.05</td>\n",
       "</tr>\n",
       "<tr>\n",
       "  <th>No. Observations:</th>      <td>   111</td>      <th>  AIC:               </th>          <td>   1042.</td>\n",
       "</tr>\n",
       "<tr>\n",
       "  <th>Df Residuals:</th>          <td>   110</td>      <th>  BIC:               </th>          <td>   1045.</td>\n",
       "</tr>\n",
       "<tr>\n",
       "  <th>Df Model:</th>              <td>     1</td>      <th>                     </th>              <td> </td>   \n",
       "</tr>\n",
       "<tr>\n",
       "  <th>Covariance Type:</th>      <td>nonrobust</td>    <th>                     </th>              <td> </td>   \n",
       "</tr>\n",
       "</table>\n",
       "<table class=\"simpletable\">\n",
       "<tr>\n",
       "  <td></td>     <th>coef</th>     <th>std err</th>      <th>t</th>      <th>P>|t|</th>  <th>[0.025</th>    <th>0.975]</th>  \n",
       "</tr>\n",
       "<tr>\n",
       "  <th>3</th> <td>    0.5483</td> <td>    0.032</td> <td>   17.274</td> <td> 0.000</td> <td>    0.485</td> <td>    0.611</td>\n",
       "</tr>\n",
       "</table>\n",
       "<table class=\"simpletable\">\n",
       "<tr>\n",
       "  <th>Omnibus:</th>       <td>16.401</td> <th>  Durbin-Watson:     </th> <td>   1.052</td>\n",
       "</tr>\n",
       "<tr>\n",
       "  <th>Prob(Omnibus):</th> <td> 0.000</td> <th>  Jarque-Bera (JB):  </th> <td>  19.271</td>\n",
       "</tr>\n",
       "<tr>\n",
       "  <th>Skew:</th>          <td> 1.013</td> <th>  Prob(JB):          </th> <td>6.54e-05</td>\n",
       "</tr>\n",
       "<tr>\n",
       "  <th>Kurtosis:</th>      <td> 3.253</td> <th>  Cond. No.          </th> <td>    1.00</td>\n",
       "</tr>\n",
       "</table><br/><br/>Notes:<br/>[1] R² is computed without centering (uncentered) since the model does not contain a constant.<br/>[2] Standard Errors assume that the covariance matrix of the errors is correctly specified."
      ],
      "text/plain": [
       "<class 'statsmodels.iolib.summary.Summary'>\n",
       "\"\"\"\n",
       "                                 OLS Regression Results                                \n",
       "=======================================================================================\n",
       "Dep. Variable:                      y   R-squared (uncentered):                   0.731\n",
       "Model:                            OLS   Adj. R-squared (uncentered):              0.728\n",
       "Method:                 Least Squares   F-statistic:                              298.4\n",
       "Date:                Mon, 05 Jul 2021   Prob (F-statistic):                    4.12e-33\n",
       "Time:                        18:55:18   Log-Likelihood:                         -520.05\n",
       "No. Observations:                 111   AIC:                                      1042.\n",
       "Df Residuals:                     110   BIC:                                      1045.\n",
       "Df Model:                           1                                                  \n",
       "Covariance Type:            nonrobust                                                  \n",
       "==============================================================================\n",
       "                 coef    std err          t      P>|t|      [0.025      0.975]\n",
       "------------------------------------------------------------------------------\n",
       "3              0.5483      0.032     17.274      0.000       0.485       0.611\n",
       "==============================================================================\n",
       "Omnibus:                       16.401   Durbin-Watson:                   1.052\n",
       "Prob(Omnibus):                  0.000   Jarque-Bera (JB):               19.271\n",
       "Skew:                           1.013   Prob(JB):                     6.54e-05\n",
       "Kurtosis:                       3.253   Cond. No.                         1.00\n",
       "==============================================================================\n",
       "\n",
       "Notes:\n",
       "[1] R² is computed without centering (uncentered) since the model does not contain a constant.\n",
       "[2] Standard Errors assume that the covariance matrix of the errors is correctly specified.\n",
       "\"\"\""
      ]
     },
     "execution_count": 45,
     "metadata": {},
     "output_type": "execute_result"
    }
   ],
   "source": [
    "model=sm.OLS(ozone,temp).fit()\n",
    "model.summary()"
   ]
  },
  {
   "cell_type": "raw",
   "id": "1b2f9c7a",
   "metadata": {},
   "source": [
    "Observations:\n",
    "- slope is 0.548,that means for every 1 degree rise in temp,ozone depletion affected by 0.548 units\n",
    "- talking about the R square value,which shows the model's capabilities to explain variance between predictor(temp) and target variabl(ozone).so its value is .731 which is a gud number \n",
    "- talking about the adj R square value,which shows how well our model predict the future results of untested data,so its value is .728 which is a gud number\n",
    "-most important P>|t|,test significance,its value is 0,which is definatley <5%(alpha value).Which means accept the alternative hypothysis i.e there is a significant relation between ozone depletion and temp."
   ]
  },
  {
   "cell_type": "code",
   "execution_count": 46,
   "id": "7ea5ea91",
   "metadata": {},
   "outputs": [
    {
     "name": "stderr",
     "output_type": "stream",
     "text": [
      "C:\\Users\\Sandhu\\anaconda3\\lib\\site-packages\\seaborn\\distributions.py:2557: FutureWarning: `distplot` is a deprecated function and will be removed in a future version. Please adapt your code to use either `displot` (a figure-level function with similar flexibility) or `histplot` (an axes-level function for histograms).\n",
      "  warnings.warn(msg, FutureWarning)\n"
     ]
    },
    {
     "data": {
      "text/plain": [
       "<AxesSubplot:xlabel='Temp', ylabel='Density'>"
      ]
     },
     "execution_count": 46,
     "metadata": {},
     "output_type": "execute_result"
    },
    {
     "data": {
      "image/png": "[encoded data removed]",
      "text/plain": [
       "<Figure size 432x288 with 1 Axes>"
      ]
     },
     "metadata": {
      "needs_background": "light"
     },
     "output_type": "display_data"
    }
   ],
   "source": [
    "sns.distplot(df['Temp'])"
   ]
  },
  {
   "cell_type": "raw",
   "id": "86c2ed15",
   "metadata": {},
   "source": [
    "a well bell shaped curve we got that means our data is normalized."
   ]
  },
  {
   "cell_type": "code",
   "execution_count": 47,
   "id": "23fc2e02",
   "metadata": {},
   "outputs": [
    {
     "data": {
      "text/plain": [
       "<AxesSubplot:xlabel='Temp', ylabel='Ozone'>"
      ]
     },
     "execution_count": 47,
     "metadata": {},
     "output_type": "execute_result"
    },
    {
     "data": {
      "image/png": "[encoded data removed]",
      "text/plain": [
       "<Figure size 432x288 with 1 Axes>"
      ]
     },
     "metadata": {
      "needs_background": "light"
     },
     "output_type": "display_data"
    }
   ],
   "source": [
    "#Plot a regression line\n",
    "plt.plot(temp,ozone,'o')\n",
    "plt.ylabel(\"Ozone\")\n",
    "plt.xlabel(\"Temperature\")\n",
    "plt.axhline(mean_ozone, color='r', linestyle='-')\n",
    "sns.regplot(x='Temp', y='Ozone', data=df)"
   ]
  },
  {
   "cell_type": "code",
   "execution_count": 48,
   "id": "d029212d",
   "metadata": {},
   "outputs": [],
   "source": [
    "#Split up the data into 'x' array that contains the features to train on and 'y' array with the target variable\n",
    "x=df['Temp']\n",
    "y=df['Ozone']"
   ]
  },
  {
   "cell_type": "code",
   "execution_count": 49,
   "id": "7fc77bc4",
   "metadata": {},
   "outputs": [
    {
     "data": {
      "text/plain": [
       "0      67\n",
       "1      72\n",
       "2      74\n",
       "3      62\n",
       "5      66\n",
       "       ..\n",
       "147    63\n",
       "148    70\n",
       "150    75\n",
       "151    76\n",
       "152    68\n",
       "Name: Temp, Length: 111, dtype: int64"
      ]
     },
     "execution_count": 49,
     "metadata": {},
     "output_type": "execute_result"
    }
   ],
   "source": [
    "x"
   ]
  },
  {
   "cell_type": "code",
   "execution_count": 50,
   "id": "91d61bfc",
   "metadata": {},
   "outputs": [
    {
     "data": {
      "text/plain": [
       "0      41.0\n",
       "1      36.0\n",
       "2      12.0\n",
       "3      18.0\n",
       "5      28.0\n",
       "       ... \n",
       "147    14.0\n",
       "148    30.0\n",
       "150    14.0\n",
       "151    18.0\n",
       "152    20.0\n",
       "Name: Ozone, Length: 111, dtype: float64"
      ]
     },
     "execution_count": 50,
     "metadata": {},
     "output_type": "execute_result"
    }
   ],
   "source": [
    "y"
   ]
  },
  {
   "cell_type": "code",
   "execution_count": 51,
   "id": "40afefdd",
   "metadata": {},
   "outputs": [],
   "source": [
    "# Split the data into Training set and Test set\n",
    "\n",
    "#train_test_split splits arrays or matrices into random train and test subsets. \n",
    "from sklearn.model_selection import train_test_split \n",
    "x_train, x_test, y_train, y_test = train_test_split(x, y,test_size=0.3,random_state =1) \n",
    "\n",
    "#random_state=some_number,guarantees that the output of Run 1 will be equal to the output of Run 2, \n",
    "# i.e. split will be always the same."
   ]
  },
  {
   "cell_type": "code",
   "execution_count": 52,
   "id": "e9e63650",
   "metadata": {},
   "outputs": [
    {
     "data": {
      "text/plain": [
       "62     85\n",
       "146    69\n",
       "23     61\n",
       "152    68\n",
       "43     82\n",
       "       ..\n",
       "12     66\n",
       "110    78\n",
       "15     64\n",
       "148    70\n",
       "68     92\n",
       "Name: Temp, Length: 77, dtype: int64"
      ]
     },
     "execution_count": 52,
     "metadata": {},
     "output_type": "execute_result"
    }
   ],
   "source": [
    "x_train"
   ]
  },
  {
   "cell_type": "code",
   "execution_count": 53,
   "id": "b30d93be",
   "metadata": {},
   "outputs": [
    {
     "data": {
      "text/plain": [
       "62     49.0\n",
       "146     7.0\n",
       "23     32.0\n",
       "152    20.0\n",
       "43     23.0\n",
       "       ... \n",
       "12     11.0\n",
       "110    31.0\n",
       "15     14.0\n",
       "148    30.0\n",
       "68     97.0\n",
       "Name: Ozone, Length: 77, dtype: float64"
      ]
     },
     "execution_count": 53,
     "metadata": {},
     "output_type": "execute_result"
    }
   ],
   "source": [
    "y_train"
   ]
  },
  {
   "cell_type": "code",
   "execution_count": 54,
   "id": "f9c7977c",
   "metadata": {},
   "outputs": [
    {
     "data": {
      "text/plain": [
       "(77,)"
      ]
     },
     "execution_count": 54,
     "metadata": {},
     "output_type": "execute_result"
    }
   ],
   "source": [
    "x_train.shape"
   ]
  },
  {
   "cell_type": "code",
   "execution_count": 55,
   "id": "3bae6007",
   "metadata": {},
   "outputs": [
    {
     "data": {
      "text/plain": [
       "(77,)"
      ]
     },
     "execution_count": 55,
     "metadata": {},
     "output_type": "execute_result"
    }
   ],
   "source": [
    "y_train.shape"
   ]
  },
  {
   "cell_type": "code",
   "execution_count": 56,
   "id": "7cd02c28",
   "metadata": {},
   "outputs": [],
   "source": [
    "x_train = x_train.values.reshape((-1,1))"
   ]
  },
  {
   "cell_type": "code",
   "execution_count": 57,
   "id": "7bc52c32",
   "metadata": {},
   "outputs": [
    {
     "data": {
      "text/plain": [
       "(77, 1)"
      ]
     },
     "execution_count": 57,
     "metadata": {},
     "output_type": "execute_result"
    }
   ],
   "source": [
    "x_train.shape"
   ]
  },
  {
   "cell_type": "code",
   "execution_count": 58,
   "id": "3e2ba5d9",
   "metadata": {},
   "outputs": [
    {
     "data": {
      "text/plain": [
       "array([[85],\n",
       "       [69],\n",
       "       [61],\n",
       "       [68],\n",
       "       [82],\n",
       "       [88],\n",
       "       [87],\n",
       "       [89],\n",
       "       [86],\n",
       "       [81],\n",
       "       [96],\n",
       "       [73],\n",
       "       [94],\n",
       "       [87],\n",
       "       [92],\n",
       "       [76],\n",
       "       [83],\n",
       "       [78],\n",
       "       [71],\n",
       "       [66],\n",
       "       [86],\n",
       "       [62],\n",
       "       [76],\n",
       "       [81],\n",
       "       [82],\n",
       "       [84],\n",
       "       [82],\n",
       "       [86],\n",
       "       [87],\n",
       "       [75],\n",
       "       [81],\n",
       "       [82],\n",
       "       [79],\n",
       "       [71],\n",
       "       [86],\n",
       "       [81],\n",
       "       [62],\n",
       "       [73],\n",
       "       [76],\n",
       "       [85],\n",
       "       [93],\n",
       "       [69],\n",
       "       [86],\n",
       "       [67],\n",
       "       [68],\n",
       "       [81],\n",
       "       [79],\n",
       "       [85],\n",
       "       [89],\n",
       "       [74],\n",
       "       [63],\n",
       "       [66],\n",
       "       [80],\n",
       "       [71],\n",
       "       [68],\n",
       "       [65],\n",
       "       [77],\n",
       "       [58],\n",
       "       [93],\n",
       "       [61],\n",
       "       [67],\n",
       "       [85],\n",
       "       [90],\n",
       "       [59],\n",
       "       [76],\n",
       "       [79],\n",
       "       [72],\n",
       "       [59],\n",
       "       [90],\n",
       "       [94],\n",
       "       [65],\n",
       "       [72],\n",
       "       [66],\n",
       "       [78],\n",
       "       [64],\n",
       "       [70],\n",
       "       [92]], dtype=int64)"
      ]
     },
     "execution_count": 58,
     "metadata": {},
     "output_type": "execute_result"
    }
   ],
   "source": [
    "x_train"
   ]
  },
  {
   "cell_type": "code",
   "execution_count": 59,
   "id": "3dbc4fdb",
   "metadata": {},
   "outputs": [
    {
     "data": {
      "text/plain": [
       "62     49.0\n",
       "146     7.0\n",
       "23     32.0\n",
       "152    20.0\n",
       "43     23.0\n",
       "       ... \n",
       "12     11.0\n",
       "110    31.0\n",
       "15     14.0\n",
       "148    30.0\n",
       "68     97.0\n",
       "Name: Ozone, Length: 77, dtype: float64"
      ]
     },
     "execution_count": 59,
     "metadata": {},
     "output_type": "execute_result"
    }
   ],
   "source": [
    "y_train"
   ]
  },
  {
   "cell_type": "code",
   "execution_count": 60,
   "id": "256b8d0b",
   "metadata": {},
   "outputs": [],
   "source": [
    "from sklearn import linear_model as lm\n",
    "model=lm.LinearRegression()\n",
    "results=model.fit(x_train,y_train) "
   ]
  },
  {
   "cell_type": "code",
   "execution_count": 61,
   "id": "f6d6f9ed",
   "metadata": {},
   "outputs": [
    {
     "name": "stdout",
     "output_type": "stream",
     "text": [
      "Accuracy of the model: 0.5891497523190505\n"
     ]
    }
   ],
   "source": [
    "accuracy = model.score(x_train, y_train)\n",
    "print('Accuracy of the model:', accuracy)"
   ]
  },
  {
   "cell_type": "code",
   "execution_count": 62,
   "id": "5c1567e8",
   "metadata": {},
   "outputs": [
    {
     "data": {
      "text/plain": [
       "LinearRegression()"
      ]
     },
     "execution_count": 62,
     "metadata": {},
     "output_type": "execute_result"
    }
   ],
   "source": [
    "model"
   ]
  },
  {
   "cell_type": "code",
   "execution_count": 63,
   "id": "00cc40af",
   "metadata": {},
   "outputs": [
    {
     "data": {
      "text/plain": [
       "131    75\n",
       "77     82\n",
       "91     81\n",
       "123    91\n",
       "107    77\n",
       "143    64\n",
       "139    67\n",
       "93     81\n",
       "66     83\n",
       "69     92\n",
       "100    90\n",
       "132    73\n",
       "2      74\n",
       "140    76\n",
       "145    81\n",
       "88     88\n",
       "138    78\n",
       "135    77\n",
       "130    78\n",
       "75     80\n",
       "112    77\n",
       "21     73\n",
       "119    97\n",
       "89     86\n",
       "129    80\n",
       "63     81\n",
       "104    82\n",
       "81     74\n",
       "79     87\n",
       "128    84\n",
       "50     76\n",
       "90     83\n",
       "94     82\n",
       "13     68\n",
       "Name: Temp, dtype: int64"
      ]
     },
     "execution_count": 63,
     "metadata": {},
     "output_type": "execute_result"
    }
   ],
   "source": [
    "x_test"
   ]
  },
  {
   "cell_type": "code",
   "execution_count": 64,
   "id": "eee31496",
   "metadata": {},
   "outputs": [
    {
     "data": {
      "text/plain": [
       "(34,)"
      ]
     },
     "execution_count": 64,
     "metadata": {},
     "output_type": "execute_result"
    }
   ],
   "source": [
    "x_test.shape"
   ]
  },
  {
   "cell_type": "code",
   "execution_count": 65,
   "id": "f15d9789",
   "metadata": {},
   "outputs": [],
   "source": [
    "x_test = x_test.values.reshape((-1,1))"
   ]
  },
  {
   "cell_type": "code",
   "execution_count": 66,
   "id": "8652aab3",
   "metadata": {},
   "outputs": [
    {
     "data": {
      "text/plain": [
       "array([[75],\n",
       "       [82],\n",
       "       [81],\n",
       "       [91],\n",
       "       [77],\n",
       "       [64],\n",
       "       [67],\n",
       "       [81],\n",
       "       [83],\n",
       "       [92],\n",
       "       [90],\n",
       "       [73],\n",
       "       [74],\n",
       "       [76],\n",
       "       [81],\n",
       "       [88],\n",
       "       [78],\n",
       "       [77],\n",
       "       [78],\n",
       "       [80],\n",
       "       [77],\n",
       "       [73],\n",
       "       [97],\n",
       "       [86],\n",
       "       [80],\n",
       "       [81],\n",
       "       [82],\n",
       "       [74],\n",
       "       [87],\n",
       "       [84],\n",
       "       [76],\n",
       "       [83],\n",
       "       [82],\n",
       "       [68]], dtype=int64)"
      ]
     },
     "execution_count": 66,
     "metadata": {},
     "output_type": "execute_result"
    }
   ],
   "source": [
    "x_test"
   ]
  },
  {
   "cell_type": "code",
   "execution_count": 67,
   "id": "d670c867",
   "metadata": {},
   "outputs": [
    {
     "name": "stdout",
     "output_type": "stream",
     "text": [
      "predicted ozone Depletion:\n",
      "[36.90507198 53.11137577 50.79618952 73.94805208 41.53544449 11.43802317\n",
      " 18.38358193 50.79618952 55.42656203 76.26323834 71.63286582 32.27469947\n",
      " 34.58988573 39.22025824 50.79618952 67.00249331 43.85063075 41.53544449\n",
      " 43.85063075 48.48100326 41.53544449 32.27469947 87.83916962 62.3721208\n",
      " 48.48100326 50.79618952 53.11137577 34.58988573 64.68730706 57.74174829\n",
      " 39.22025824 55.42656203 53.11137577 20.69876819]\n"
     ]
    }
   ],
   "source": [
    "predictions = model.predict(x_test)\n",
    "print('predicted ozone Depletion:',predictions, sep = '\\n')"
   ]
  },
  {
   "cell_type": "code",
   "execution_count": 68,
   "id": "4ff8fbef",
   "metadata": {},
   "outputs": [
    {
     "data": {
      "text/plain": [
       "131     21.0\n",
       "77      35.0\n",
       "91      59.0\n",
       "123     96.0\n",
       "107     22.0\n",
       "143     13.0\n",
       "139     18.0\n",
       "93       9.0\n",
       "66      40.0\n",
       "69      97.0\n",
       "100    110.0\n",
       "132     24.0\n",
       "2       12.0\n",
       "140     13.0\n",
       "145     36.0\n",
       "88      82.0\n",
       "138     46.0\n",
       "135     28.0\n",
       "130     23.0\n",
       "75       7.0\n",
       "112     21.0\n",
       "21      11.0\n",
       "119     76.0\n",
       "89      50.0\n",
       "129     20.0\n",
       "63      32.0\n",
       "104     28.0\n",
       "81      16.0\n",
       "79      79.0\n",
       "128     32.0\n",
       "50      13.0\n",
       "90      64.0\n",
       "94      16.0\n",
       "13      14.0\n",
       "Name: Ozone, dtype: float64"
      ]
     },
     "execution_count": 68,
     "metadata": {},
     "output_type": "execute_result"
    }
   ],
   "source": [
    "y_test"
   ]
  },
  {
   "cell_type": "code",
   "execution_count": 69,
   "id": "17820ddc",
   "metadata": {},
   "outputs": [
    {
     "data": {
      "text/plain": [
       "<matplotlib.collections.PathCollection at 0x1fc28d08130>"
      ]
     },
     "execution_count": 69,
     "metadata": {},
     "output_type": "execute_result"
    },
    {
     "data": {
      "image/png": "[encoded data removed]",
      "text/plain": [
       "<Figure size 432x288 with 1 Axes>"
      ]
     },
     "metadata": {
      "needs_background": "light"
     },
     "output_type": "display_data"
    }
   ],
   "source": [
    "plt.scatter(y_test, predictions)"
   ]
  },
  {
   "cell_type": "code",
   "execution_count": 70,
   "id": "c0219373",
   "metadata": {},
   "outputs": [],
   "source": [
    "from sklearn.metrics import mean_squared_error, r2_score\n",
    "x_train = x_train.reshape(-1,1)\n",
    "y_train_prediction = model.predict(x_train)\n",
    "\n",
    "x_test = x_test.reshape(-1,1)\n",
    "y_test_prediction = model.predict(x_test)"
   ]
  },
  {
   "cell_type": "code",
   "execution_count": 71,
   "id": "bc4697b0",
   "metadata": {},
   "outputs": [
    {
     "name": "stdout",
     "output_type": "stream",
     "text": [
      "Slope: [2.31518626]\n",
      "Intercept: -136.7338972242935\n",
      "\n",
      "\n",
      "The model performance for training set\n",
      "--------------------------------------\n",
      "RMSE is 19.331836188461722\n",
      "R2 score is 0.5891497523190505\n",
      "\n",
      "\n",
      "The model performance for testing set\n",
      "--------------------------------------\n",
      "RMSE is :  21.569272722743573\n",
      "R2 score:  0.4202541264238361\n"
     ]
    }
   ],
   "source": [
    "# printing values\n",
    "print('Slope:' ,model.coef_)\n",
    "print('Intercept:', model.intercept_)\n",
    "print(\"\\n\")\n",
    "\n",
    "# model evaluation for training set\n",
    "import numpy as np\n",
    "rmse_training = (np.sqrt(mean_squared_error(y_train, y_train_prediction)))\n",
    "r2_training = r2_score(y_train, y_train_prediction)\n",
    "\n",
    "print(\"The model performance for training set\")\n",
    "print(\"--------------------------------------\")\n",
    "print('RMSE is {}'.format(rmse_training))\n",
    "print('R2 score is {}'.format(r2_training))\n",
    "print(\"\\n\")\n",
    "\n",
    "# model evaluation for testing set\n",
    "rmse_testing = (np.sqrt(mean_squared_error(y_test, y_test_prediction)))\n",
    "r2_testing = r2_score(y_test, y_test_prediction)\n",
    "\n",
    "print(\"The model performance for testing set\")\n",
    "print(\"--------------------------------------\")\n",
    "print('RMSE is : ', rmse_testing)\n",
    "print('R2 score: ', r2_testing)"
   ]
  },
  {
   "cell_type": "raw",
   "id": "0351528e",
   "metadata": {},
   "source": [
    "As we know that for a good model:\n",
    "-rmse of testing data must be < rmse of traning data AND\n",
    "-R sqr of testing  > traning\n",
    "but in this model's case,its just opposite."
   ]
  },
  {
   "cell_type": "code",
   "execution_count": 72,
   "id": "744447e1",
   "metadata": {},
   "outputs": [
    {
     "data": {
      "text/plain": [
       "Text(0, 0.5, 'Ozone')"
      ]
     },
     "execution_count": 72,
     "metadata": {},
     "output_type": "execute_result"
    },
    {
     "data": {
      "image/png": "[encoded data removed]",
      "text/plain": [
       "<Figure size 432x288 with 1 Axes>"
      ]
     },
     "metadata": {
      "needs_background": "light"
     },
     "output_type": "display_data"
    }
   ],
   "source": [
    "# plotting values\n",
    "\n",
    "# data points\n",
    "plt.scatter(x, y)\n",
    "plt.xlabel('Temeperature')\n",
    "plt.ylabel('Ozone')"
   ]
  },
  {
   "cell_type": "raw",
   "id": "5119cc88",
   "metadata": {},
   "source": [
    "observations:\n",
    "    we can see a quite linear pattern but not that clear one.\n",
    "    as temp is having +ve corr with Ozone as seen in heatmap also,this scatterplot is also telling the same."
   ]
  },
  {
   "cell_type": "code",
   "execution_count": 73,
   "id": "a112b07a",
   "metadata": {},
   "outputs": [],
   "source": [
    "x= x.values.reshape(-1,1)\n",
    "y_predicted = model.predict(x)"
   ]
  },
  {
   "cell_type": "code",
   "execution_count": 74,
   "id": "22de02bc",
   "metadata": {},
   "outputs": [
    {
     "data": {
      "image/png": "[encoded data removed]",
      "text/plain": [
       "<Figure size 432x288 with 1 Axes>"
      ]
     },
     "metadata": {
      "needs_background": "light"
     },
     "output_type": "display_data"
    }
   ],
   "source": [
    "# predicted values\n",
    "plt.plot(x, y_predicted, color='r')\n",
    "plt.show()"
   ]
  },
  {
   "cell_type": "markdown",
   "id": "f63c44d8",
   "metadata": {},
   "source": [
    "# #Lets now study ozone trend with Solar radiation "
   ]
  },
  {
   "cell_type": "code",
   "execution_count": 75,
   "id": "3dc75d6b",
   "metadata": {},
   "outputs": [
    {
     "data": {
      "text/plain": [
       "0    0\n",
       "1    0\n",
       "2    0\n",
       "3    0\n",
       "4    0\n",
       "5    0\n",
       "dtype: int64"
      ]
     },
     "execution_count": 75,
     "metadata": {},
     "output_type": "execute_result"
    }
   ],
   "source": [
    "df1.apply(lambda x:sum(x.isnull()),axis=0)"
   ]
  },
  {
   "cell_type": "code",
   "execution_count": 76,
   "id": "7004ef72",
   "metadata": {},
   "outputs": [
    {
     "data": {
      "image/png": "[encoded data removed]",
      "text/plain": [
       "<Figure size 432x288 with 1 Axes>"
      ]
     },
     "metadata": {
      "needs_background": "light"
     },
     "output_type": "display_data"
    }
   ],
   "source": [
    "plt.plot(solarR,ozone,'o')\n",
    "plt.ylabel(\"ozone\")\n",
    "plt.xlabel(\"Solar R\")\n",
    "plt.axhline(mean_ozone, color='r', linestyle='-')\n",
    "plt.show()"
   ]
  },
  {
   "cell_type": "code",
   "execution_count": 77,
   "id": "775fa28a",
   "metadata": {},
   "outputs": [
    {
     "name": "stderr",
     "output_type": "stream",
     "text": [
      "C:\\Users\\Sandhu\\anaconda3\\lib\\site-packages\\seaborn\\distributions.py:2557: FutureWarning: `distplot` is a deprecated function and will be removed in a future version. Please adapt your code to use either `displot` (a figure-level function with similar flexibility) or `histplot` (an axes-level function for histograms).\n",
      "  warnings.warn(msg, FutureWarning)\n"
     ]
    },
    {
     "data": {
      "text/plain": [
       "<AxesSubplot:xlabel='1', ylabel='Density'>"
      ]
     },
     "execution_count": 77,
     "metadata": {},
     "output_type": "execute_result"
    },
    {
     "data": {
      "image/png": "[encoded data removed]",
      "text/plain": [
       "<Figure size 432x288 with 1 Axes>"
      ]
     },
     "metadata": {
      "needs_background": "light"
     },
     "output_type": "display_data"
    }
   ],
   "source": [
    "sns.distplot(df1[1])"
   ]
  },
  {
   "cell_type": "code",
   "execution_count": 78,
   "id": "45b64dec",
   "metadata": {},
   "outputs": [],
   "source": [
    "#odinary least square OLS methods\n",
    "import statsmodels.api as sm"
   ]
  },
  {
   "cell_type": "code",
   "execution_count": 79,
   "id": "ce42af07",
   "metadata": {},
   "outputs": [
    {
     "data": {
      "text/html": [
       "<table class=\"simpletable\">\n",
       "<caption>OLS Regression Results</caption>\n",
       "<tr>\n",
       "  <th>Dep. Variable:</th>            <td>y</td>        <th>  R-squared (uncentered):</th>      <td>   0.658</td>\n",
       "</tr>\n",
       "<tr>\n",
       "  <th>Model:</th>                   <td>OLS</td>       <th>  Adj. R-squared (uncentered):</th> <td>   0.655</td>\n",
       "</tr>\n",
       "<tr>\n",
       "  <th>Method:</th>             <td>Least Squares</td>  <th>  F-statistic:       </th>          <td>   212.0</td>\n",
       "</tr>\n",
       "<tr>\n",
       "  <th>Date:</th>             <td>Mon, 05 Jul 2021</td> <th>  Prob (F-statistic):</th>          <td>2.06e-27</td>\n",
       "</tr>\n",
       "<tr>\n",
       "  <th>Time:</th>                 <td>18:55:30</td>     <th>  Log-Likelihood:    </th>          <td> -533.24</td>\n",
       "</tr>\n",
       "<tr>\n",
       "  <th>No. Observations:</th>      <td>   111</td>      <th>  AIC:               </th>          <td>   1068.</td>\n",
       "</tr>\n",
       "<tr>\n",
       "  <th>Df Residuals:</th>          <td>   110</td>      <th>  BIC:               </th>          <td>   1071.</td>\n",
       "</tr>\n",
       "<tr>\n",
       "  <th>Df Model:</th>              <td>     1</td>      <th>                     </th>              <td> </td>   \n",
       "</tr>\n",
       "<tr>\n",
       "  <th>Covariance Type:</th>      <td>nonrobust</td>    <th>                     </th>              <td> </td>   \n",
       "</tr>\n",
       "</table>\n",
       "<table class=\"simpletable\">\n",
       "<tr>\n",
       "  <td></td>     <th>coef</th>     <th>std err</th>      <th>t</th>      <th>P>|t|</th>  <th>[0.025</th>    <th>0.975]</th>  \n",
       "</tr>\n",
       "<tr>\n",
       "  <th>1</th> <td>    0.2000</td> <td>    0.014</td> <td>   14.560</td> <td> 0.000</td> <td>    0.173</td> <td>    0.227</td>\n",
       "</tr>\n",
       "</table>\n",
       "<table class=\"simpletable\">\n",
       "<tr>\n",
       "  <th>Omnibus:</th>       <td> 3.498</td> <th>  Durbin-Watson:     </th> <td>   1.125</td>\n",
       "</tr>\n",
       "<tr>\n",
       "  <th>Prob(Omnibus):</th> <td> 0.174</td> <th>  Jarque-Bera (JB):  </th> <td>   3.418</td>\n",
       "</tr>\n",
       "<tr>\n",
       "  <th>Skew:</th>          <td> 0.380</td> <th>  Prob(JB):          </th> <td>   0.181</td>\n",
       "</tr>\n",
       "<tr>\n",
       "  <th>Kurtosis:</th>      <td> 2.597</td> <th>  Cond. No.          </th> <td>    1.00</td>\n",
       "</tr>\n",
       "</table><br/><br/>Notes:<br/>[1] R² is computed without centering (uncentered) since the model does not contain a constant.<br/>[2] Standard Errors assume that the covariance matrix of the errors is correctly specified."
      ],
      "text/plain": [
       "<class 'statsmodels.iolib.summary.Summary'>\n",
       "\"\"\"\n",
       "                                 OLS Regression Results                                \n",
       "=======================================================================================\n",
       "Dep. Variable:                      y   R-squared (uncentered):                   0.658\n",
       "Model:                            OLS   Adj. R-squared (uncentered):              0.655\n",
       "Method:                 Least Squares   F-statistic:                              212.0\n",
       "Date:                Mon, 05 Jul 2021   Prob (F-statistic):                    2.06e-27\n",
       "Time:                        18:55:30   Log-Likelihood:                         -533.24\n",
       "No. Observations:                 111   AIC:                                      1068.\n",
       "Df Residuals:                     110   BIC:                                      1071.\n",
       "Df Model:                           1                                                  \n",
       "Covariance Type:            nonrobust                                                  \n",
       "==============================================================================\n",
       "                 coef    std err          t      P>|t|      [0.025      0.975]\n",
       "------------------------------------------------------------------------------\n",
       "1              0.2000      0.014     14.560      0.000       0.173       0.227\n",
       "==============================================================================\n",
       "Omnibus:                        3.498   Durbin-Watson:                   1.125\n",
       "Prob(Omnibus):                  0.174   Jarque-Bera (JB):                3.418\n",
       "Skew:                           0.380   Prob(JB):                        0.181\n",
       "Kurtosis:                       2.597   Cond. No.                         1.00\n",
       "==============================================================================\n",
       "\n",
       "Notes:\n",
       "[1] R² is computed without centering (uncentered) since the model does not contain a constant.\n",
       "[2] Standard Errors assume that the covariance matrix of the errors is correctly specified.\n",
       "\"\"\""
      ]
     },
     "execution_count": 79,
     "metadata": {},
     "output_type": "execute_result"
    }
   ],
   "source": [
    "model1=sm.OLS(ozone,solarR).fit()\n",
    "model1.summary()"
   ]
  },
  {
   "cell_type": "raw",
   "id": "69e149e0",
   "metadata": {},
   "source": [
    "Observations:\n",
    "- slope is 0.200,that means for every 1 unit rise in Solar Radiation,ozone depletion affected by 0.200 units\n",
    "- talking about the R square value,which shows the model's capabilities to explain variance between predictor(Solar Radiation) and target variabl(ozone).so its value is .658 which is a gud number \n",
    "- talking about the adj R square value,which shows how well our model predict the future results of untested data,so its value is .665 which is a gud number\n",
    "-most important P>|t|,test significance,its value is 0,which is definatley <5%(alpha value).Which means accept the alternative hypothysis i.e there is a significant relation between ozone depletion and Solar radiation."
   ]
  },
  {
   "cell_type": "code",
   "execution_count": 80,
   "id": "aea19075",
   "metadata": {},
   "outputs": [
    {
     "data": {
      "text/plain": [
       "<AxesSubplot:xlabel='1', ylabel='0'>"
      ]
     },
     "execution_count": 80,
     "metadata": {},
     "output_type": "execute_result"
    },
    {
     "data": {
      "image/png": "[encoded data removed]",
      "text/plain": [
       "<Figure size 432x288 with 1 Axes>"
      ]
     },
     "metadata": {
      "needs_background": "light"
     },
     "output_type": "display_data"
    }
   ],
   "source": [
    "#Plot a regression line\n",
    "plt.plot(solarR,ozone,'o')\n",
    "plt.ylabel(\"Ozone\")\n",
    "plt.xlabel(\"Solar Radiation\")\n",
    "plt.axhline(mean_ozone, color='r', linestyle='-')\n",
    "sns.regplot(x=solarR, y=ozone, data=df1)"
   ]
  },
  {
   "cell_type": "code",
   "execution_count": 81,
   "id": "b7f833c8",
   "metadata": {},
   "outputs": [],
   "source": [
    "#Split up the data into 'x' array that contains the features to train on and 'y' array with the target variable\n",
    "x1=df1[1]\n",
    "y1=df1[0]"
   ]
  },
  {
   "cell_type": "code",
   "execution_count": 82,
   "id": "599ebbdc",
   "metadata": {},
   "outputs": [
    {
     "data": {
      "text/plain": [
       "0      190.000000\n",
       "1      118.000000\n",
       "2      149.000000\n",
       "3      313.000000\n",
       "4      185.141509\n",
       "          ...    \n",
       "106     20.000000\n",
       "107    193.000000\n",
       "108    191.000000\n",
       "109    131.000000\n",
       "110    223.000000\n",
       "Name: 1, Length: 111, dtype: float64"
      ]
     },
     "execution_count": 82,
     "metadata": {},
     "output_type": "execute_result"
    }
   ],
   "source": [
    "x1"
   ]
  },
  {
   "cell_type": "code",
   "execution_count": 83,
   "id": "10d3b781",
   "metadata": {},
   "outputs": [
    {
     "data": {
      "text/plain": [
       "0      41.0\n",
       "1      36.0\n",
       "2      12.0\n",
       "3      18.0\n",
       "4      28.0\n",
       "       ... \n",
       "106    14.0\n",
       "107    30.0\n",
       "108    14.0\n",
       "109    18.0\n",
       "110    20.0\n",
       "Name: 0, Length: 111, dtype: float64"
      ]
     },
     "execution_count": 83,
     "metadata": {},
     "output_type": "execute_result"
    }
   ],
   "source": [
    "y1"
   ]
  },
  {
   "cell_type": "code",
   "execution_count": 84,
   "id": "71dec319",
   "metadata": {},
   "outputs": [],
   "source": [
    "# Split the data into Training set and Test set\n",
    "\n",
    "#train_test_split splits arrays or matrices into random train and test subsets. \n",
    "from sklearn.model_selection import train_test_split \n",
    "x1_train, x1_test, y1_train, y1_test = train_test_split(x1, y1,test_size=0.3,random_state =1) \n",
    "\n",
    "#random_state=some_number,guarantees that the output of Run 1 will be equal to the output of Run 2, \n",
    "# i.e. split will be always the same."
   ]
  },
  {
   "cell_type": "code",
   "execution_count": 85,
   "id": "269e9e77",
   "metadata": {},
   "outputs": [
    {
     "data": {
      "text/plain": [
       "32     248.0\n",
       "105     49.0\n",
       "19      92.0\n",
       "110    223.0\n",
       "27     148.0\n",
       "       ...  \n",
       "9      290.0\n",
       "72     244.0\n",
       "12     334.0\n",
       "107    193.0\n",
       "37     267.0\n",
       "Name: 1, Length: 77, dtype: float64"
      ]
     },
     "execution_count": 85,
     "metadata": {},
     "output_type": "execute_result"
    }
   ],
   "source": [
    "x1_train"
   ]
  },
  {
   "cell_type": "code",
   "execution_count": 86,
   "id": "bac59562",
   "metadata": {},
   "outputs": [
    {
     "data": {
      "text/plain": [
       "32     49.0\n",
       "105     7.0\n",
       "19     32.0\n",
       "110    20.0\n",
       "27     23.0\n",
       "       ... \n",
       "9      11.0\n",
       "72     31.0\n",
       "12     14.0\n",
       "107    30.0\n",
       "37     97.0\n",
       "Name: 0, Length: 77, dtype: float64"
      ]
     },
     "execution_count": 86,
     "metadata": {},
     "output_type": "execute_result"
    }
   ],
   "source": [
    "y1_train"
   ]
  },
  {
   "cell_type": "code",
   "execution_count": 87,
   "id": "8233151f",
   "metadata": {},
   "outputs": [
    {
     "data": {
      "text/plain": [
       "(77,)"
      ]
     },
     "execution_count": 87,
     "metadata": {},
     "output_type": "execute_result"
    }
   ],
   "source": [
    "x1_train.shape"
   ]
  },
  {
   "cell_type": "code",
   "execution_count": 88,
   "id": "c88a2dee",
   "metadata": {},
   "outputs": [
    {
     "data": {
      "text/plain": [
       "(77,)"
      ]
     },
     "execution_count": 88,
     "metadata": {},
     "output_type": "execute_result"
    }
   ],
   "source": [
    "y1_train.shape"
   ]
  },
  {
   "cell_type": "code",
   "execution_count": 89,
   "id": "64639393",
   "metadata": {},
   "outputs": [],
   "source": [
    "x1_train = x1_train.values.reshape((-1,1))"
   ]
  },
  {
   "cell_type": "code",
   "execution_count": 90,
   "id": "2cfdcd2e",
   "metadata": {},
   "outputs": [
    {
     "data": {
      "text/plain": [
       "(77, 1)"
      ]
     },
     "execution_count": 90,
     "metadata": {},
     "output_type": "execute_result"
    }
   ],
   "source": [
    "x1_train.shape"
   ]
  },
  {
   "cell_type": "code",
   "execution_count": 91,
   "id": "068b6c2e",
   "metadata": {},
   "outputs": [
    {
     "data": {
      "text/plain": [
       "array([[248.        ],\n",
       "       [ 49.        ],\n",
       "       [ 92.        ],\n",
       "       [223.        ],\n",
       "       [148.        ],\n",
       "       [276.        ],\n",
       "       [ 95.        ],\n",
       "       [175.        ],\n",
       "       [192.        ],\n",
       "       [236.        ],\n",
       "       [237.        ],\n",
       "       [264.        ],\n",
       "       [188.        ],\n",
       "       [185.14150943],\n",
       "       [197.        ],\n",
       "       [279.        ],\n",
       "       [175.        ],\n",
       "       [190.        ],\n",
       "       [112.        ],\n",
       "       [185.14150943],\n",
       "       [215.        ],\n",
       "       [ 44.        ],\n",
       "       [259.        ],\n",
       "       [175.        ],\n",
       "       [ 81.        ],\n",
       "       [285.        ],\n",
       "       [201.        ],\n",
       "       [ 82.        ],\n",
       "       [323.        ],\n",
       "       [191.        ],\n",
       "       [260.        ],\n",
       "       [127.        ],\n",
       "       [ 51.        ],\n",
       "       [ 14.        ],\n",
       "       [294.        ],\n",
       "       [252.        ],\n",
       "       [313.        ],\n",
       "       [120.        ],\n",
       "       [131.        ],\n",
       "       [220.        ],\n",
       "       [189.        ],\n",
       "       [256.        ],\n",
       "       [185.14150943],\n",
       "       [190.        ],\n",
       "       [238.        ],\n",
       "       [ 83.        ],\n",
       "       [223.        ],\n",
       "       [185.14150943],\n",
       "       [255.        ],\n",
       "       [185.14150943],\n",
       "       [ 20.        ],\n",
       "       [307.        ],\n",
       "       [157.        ],\n",
       "       [ 24.        ],\n",
       "       [322.        ],\n",
       "       [ 37.        ],\n",
       "       [191.        ],\n",
       "       [ 65.        ],\n",
       "       [183.        ],\n",
       "       [ 25.        ],\n",
       "       [ 13.        ],\n",
       "       [223.        ],\n",
       "       [291.        ],\n",
       "       [ 99.        ],\n",
       "       [115.        ],\n",
       "       [212.        ],\n",
       "       [118.        ],\n",
       "       [  8.        ],\n",
       "       [229.        ],\n",
       "       [225.        ],\n",
       "       [299.        ],\n",
       "       [ 36.        ],\n",
       "       [290.        ],\n",
       "       [244.        ],\n",
       "       [334.        ],\n",
       "       [193.        ],\n",
       "       [267.        ]])"
      ]
     },
     "execution_count": 91,
     "metadata": {},
     "output_type": "execute_result"
    }
   ],
   "source": [
    "x1_train"
   ]
  },
  {
   "cell_type": "code",
   "execution_count": 92,
   "id": "deb6cc33",
   "metadata": {},
   "outputs": [
    {
     "data": {
      "text/plain": [
       "32     49.0\n",
       "105     7.0\n",
       "19     32.0\n",
       "110    20.0\n",
       "27     23.0\n",
       "       ... \n",
       "9      11.0\n",
       "72     31.0\n",
       "12     14.0\n",
       "107    30.0\n",
       "37     97.0\n",
       "Name: 0, Length: 77, dtype: float64"
      ]
     },
     "execution_count": 92,
     "metadata": {},
     "output_type": "execute_result"
    }
   ],
   "source": [
    "y1_train"
   ]
  },
  {
   "cell_type": "code",
   "execution_count": 93,
   "id": "9bbbc4ee",
   "metadata": {},
   "outputs": [],
   "source": [
    "from sklearn import linear_model as lm\n",
    "model1=lm.LinearRegression()\n",
    "results=model1.fit(x1_train,y1_train) "
   ]
  },
  {
   "cell_type": "code",
   "execution_count": 94,
   "id": "52be3cf6",
   "metadata": {},
   "outputs": [
    {
     "name": "stdout",
     "output_type": "stream",
     "text": [
      "Accuracy of the model: 0.12602219816627291\n"
     ]
    }
   ],
   "source": [
    "accuracy = model1.score(x1_train, y1_train)\n",
    "print('Accuracy of the model:', accuracy)"
   ]
  },
  {
   "cell_type": "raw",
   "id": "3417309c",
   "metadata": {},
   "source": [
    "as accuracy comes out to be 12.6%\n",
    "which is very poor accuracy model and we can't apply this predictive model for further studies"
   ]
  },
  {
   "cell_type": "code",
   "execution_count": 95,
   "id": "74052fcc",
   "metadata": {},
   "outputs": [
    {
     "data": {
      "text/plain": [
       "LinearRegression()"
      ]
     },
     "execution_count": 95,
     "metadata": {},
     "output_type": "execute_result"
    }
   ],
   "source": [
    "model1"
   ]
  },
  {
   "cell_type": "code",
   "execution_count": 96,
   "id": "0baae058",
   "metadata": {},
   "outputs": [
    {
     "data": {
      "text/plain": [
       "90     230.0\n",
       "44     274.0\n",
       "56     254.0\n",
       "82     167.0\n",
       "69      71.0\n",
       "102    238.0\n",
       "98     224.0\n",
       "58      24.0\n",
       "35     314.0\n",
       "38     272.0\n",
       "65     207.0\n",
       "91     259.0\n",
       "2      149.0\n",
       "99      27.0\n",
       "104    139.0\n",
       "53     213.0\n",
       "97     237.0\n",
       "94     238.0\n",
       "89     220.0\n",
       "42      48.0\n",
       "74     259.0\n",
       "17     320.0\n",
       "78     203.0\n",
       "54     275.0\n",
       "88     252.0\n",
       "33     236.0\n",
       "67     273.0\n",
       "48       7.0\n",
       "46     187.0\n",
       "87      92.0\n",
       "31     137.0\n",
       "55     253.0\n",
       "59      77.0\n",
       "10     274.0\n",
       "Name: 1, dtype: float64"
      ]
     },
     "execution_count": 96,
     "metadata": {},
     "output_type": "execute_result"
    }
   ],
   "source": [
    "x1_test"
   ]
  },
  {
   "cell_type": "code",
   "execution_count": 97,
   "id": "79335f67",
   "metadata": {},
   "outputs": [
    {
     "data": {
      "text/plain": [
       "(34,)"
      ]
     },
     "execution_count": 97,
     "metadata": {},
     "output_type": "execute_result"
    }
   ],
   "source": [
    "x1_test.shape"
   ]
  },
  {
   "cell_type": "code",
   "execution_count": 98,
   "id": "5552de12",
   "metadata": {},
   "outputs": [],
   "source": [
    "x1_test=x1_test.values.reshape((-1,1))"
   ]
  },
  {
   "cell_type": "code",
   "execution_count": 99,
   "id": "d37382e4",
   "metadata": {},
   "outputs": [
    {
     "data": {
      "text/plain": [
       "array([[75],\n",
       "       [82],\n",
       "       [81],\n",
       "       [91],\n",
       "       [77],\n",
       "       [64],\n",
       "       [67],\n",
       "       [81],\n",
       "       [83],\n",
       "       [92],\n",
       "       [90],\n",
       "       [73],\n",
       "       [74],\n",
       "       [76],\n",
       "       [81],\n",
       "       [88],\n",
       "       [78],\n",
       "       [77],\n",
       "       [78],\n",
       "       [80],\n",
       "       [77],\n",
       "       [73],\n",
       "       [97],\n",
       "       [86],\n",
       "       [80],\n",
       "       [81],\n",
       "       [82],\n",
       "       [74],\n",
       "       [87],\n",
       "       [84],\n",
       "       [76],\n",
       "       [83],\n",
       "       [82],\n",
       "       [68]], dtype=int64)"
      ]
     },
     "execution_count": 99,
     "metadata": {},
     "output_type": "execute_result"
    }
   ],
   "source": [
    "x_test"
   ]
  },
  {
   "cell_type": "code",
   "execution_count": 100,
   "id": "e519e939",
   "metadata": {},
   "outputs": [
    {
     "name": "stdout",
     "output_type": "stream",
     "text": [
      "predicted ozone Depletion:\n",
      "[48.48381031 53.83471197 51.40248394 40.82229202 29.14759748 49.45670152\n",
      " 47.7541419  23.43186162 58.69916802 53.59148916 45.68674807 52.01054095\n",
      " 38.63328679 23.79669582 37.41717278 46.41641648 49.33509012 49.45670152\n",
      " 47.26769629 26.35053525 52.01054095 59.42883643 45.20030247 53.95632337\n",
      " 51.15926114 49.21347871 53.71310057 21.36446779 43.25452005 31.70143691\n",
      " 37.17394998 51.28087254 29.87726589 53.83471197]\n"
     ]
    }
   ],
   "source": [
    "predictions = model1.predict(x1_test)\n",
    "print('predicted ozone Depletion:',predictions, sep = '\\n')"
   ]
  },
  {
   "cell_type": "code",
   "execution_count": 101,
   "id": "d905bad0",
   "metadata": {},
   "outputs": [
    {
     "data": {
      "text/plain": [
       "90      21.0\n",
       "44      35.0\n",
       "56      59.0\n",
       "82      96.0\n",
       "69      22.0\n",
       "102     13.0\n",
       "98      18.0\n",
       "58       9.0\n",
       "35      40.0\n",
       "38      97.0\n",
       "65     110.0\n",
       "91      24.0\n",
       "2       12.0\n",
       "99      13.0\n",
       "104     36.0\n",
       "53      82.0\n",
       "97      46.0\n",
       "94      28.0\n",
       "89      23.0\n",
       "42       7.0\n",
       "74      21.0\n",
       "17      11.0\n",
       "78      76.0\n",
       "54      50.0\n",
       "88      20.0\n",
       "33      32.0\n",
       "67      28.0\n",
       "48      16.0\n",
       "46      79.0\n",
       "87      32.0\n",
       "31      13.0\n",
       "55      64.0\n",
       "59      16.0\n",
       "10      14.0\n",
       "Name: 0, dtype: float64"
      ]
     },
     "execution_count": 101,
     "metadata": {},
     "output_type": "execute_result"
    }
   ],
   "source": [
    "y1_test"
   ]
  },
  {
   "cell_type": "code",
   "execution_count": 102,
   "id": "61f45019",
   "metadata": {},
   "outputs": [
    {
     "data": {
      "text/plain": [
       "<matplotlib.collections.PathCollection at 0x1fc28f6aa00>"
      ]
     },
     "execution_count": 102,
     "metadata": {},
     "output_type": "execute_result"
    },
    {
     "data": {
      "image/png": "[encoded data removed]",
      "text/plain": [
       "<Figure size 432x288 with 1 Axes>"
      ]
     },
     "metadata": {
      "needs_background": "light"
     },
     "output_type": "display_data"
    }
   ],
   "source": [
    "plt.scatter(y1_test, predictions)"
   ]
  },
  {
   "cell_type": "raw",
   "id": "d1cd80dd",
   "metadata": {},
   "source": [
    "very random scattring comes out and as the accuracy is very low we expect this kind of randomness."
   ]
  },
  {
   "cell_type": "code",
   "execution_count": 103,
   "id": "1e1dd49e",
   "metadata": {},
   "outputs": [],
   "source": [
    "from sklearn.metrics import mean_squared_error, r2_score\n",
    "x1_train = x1_train.reshape(-1,1)\n",
    "y1_train_prediction = model1.predict(x1_train)\n",
    "\n",
    "x1_test = x1_test.reshape(-1,1)\n",
    "y1_test_prediction = model1.predict(x1_test)"
   ]
  },
  {
   "cell_type": "code",
   "execution_count": 104,
   "id": "d987721e",
   "metadata": {},
   "outputs": [
    {
     "name": "stdout",
     "output_type": "stream",
     "text": [
      "Slope: [0.1216114]\n",
      "Intercept: 20.513187982837223\n",
      "\n",
      "\n",
      "The model performance for training set\n",
      "--------------------------------------\n",
      "RMSE is 28.195612344699946\n",
      "R2 score is 0.12602219816627291\n",
      "\n",
      "\n",
      "The model performance for testing set\n",
      "--------------------------------------\n",
      "RMSE is :  28.388940613445925\n",
      "R2 score:  -0.004303636788868914\n"
     ]
    }
   ],
   "source": [
    "# printing values\n",
    "print('Slope:' ,model1.coef_)\n",
    "print('Intercept:', model1.intercept_)\n",
    "print(\"\\n\")\n",
    "\n",
    "# model evaluation for training set\n",
    "import numpy as np\n",
    "rmse_training = (np.sqrt(mean_squared_error(y1_train, y1_train_prediction)))\n",
    "r2_training = r2_score(y1_train, y1_train_prediction)\n",
    "\n",
    "print(\"The model performance for training set\")\n",
    "print(\"--------------------------------------\")\n",
    "print('RMSE is {}'.format(rmse_training))\n",
    "print('R2 score is {}'.format(r2_training))\n",
    "print(\"\\n\")\n",
    "\n",
    "# model evaluation for testing set\n",
    "rmse_testing = (np.sqrt(mean_squared_error(y1_test, y1_test_prediction)))\n",
    "r2_testing = r2_score(y1_test, y1_test_prediction)\n",
    "\n",
    "print(\"The model performance for testing set\")\n",
    "print(\"--------------------------------------\")\n",
    "print('RMSE is : ', rmse_testing)\n",
    "print('R2 score: ', r2_testing)"
   ]
  },
  {
   "cell_type": "raw",
   "id": "9c1b3114",
   "metadata": {},
   "source": [
    "observations:\n",
    "As we can see that RMSE value is nearly same for the both models which is good but\n",
    "when we consider the Rsqr values,its very low and that is what our model can't explain the variance between predictor and target variable."
   ]
  },
  {
   "cell_type": "code",
   "execution_count": 105,
   "id": "e66ea30c",
   "metadata": {},
   "outputs": [
    {
     "data": {
      "text/plain": [
       "Text(0, 0.5, 'Ozone')"
      ]
     },
     "execution_count": 105,
     "metadata": {},
     "output_type": "execute_result"
    },
    {
     "data": {
      "image/png": "[encoded data removed]",
      "text/plain": [
       "<Figure size 432x288 with 1 Axes>"
      ]
     },
     "metadata": {
      "needs_background": "light"
     },
     "output_type": "display_data"
    }
   ],
   "source": [
    "# plotting values\n",
    "\n",
    "# data points\n",
    "plt.scatter(x1, y1)\n",
    "plt.xlabel('Solar Radiation')\n",
    "plt.ylabel('Ozone')"
   ]
  },
  {
   "cell_type": "code",
   "execution_count": 107,
   "id": "b23935dc",
   "metadata": {},
   "outputs": [],
   "source": [
    "x1= x1.values.reshape(-1,1)\n",
    "y1_predicted = model1.predict(x1)"
   ]
  },
  {
   "cell_type": "code",
   "execution_count": 108,
   "id": "211eb1c6",
   "metadata": {},
   "outputs": [
    {
     "data": {
      "image/png": "[encoded data removed]",
      "text/plain": [
       "<Figure size 432x288 with 1 Axes>"
      ]
     },
     "metadata": {
      "needs_background": "light"
     },
     "output_type": "display_data"
    }
   ],
   "source": [
    "# predicted values\n",
    "plt.plot(x1, y1_predicted, color='r')\n",
    "plt.show()"
   ]
  },
  {
   "cell_type": "markdown",
   "id": "ea5b8554",
   "metadata": {},
   "source": [
    "# Now lets make a predictive model of Ozone with Wind"
   ]
  },
  {
   "cell_type": "code",
   "execution_count": 109,
   "id": "7c6b1e09",
   "metadata": {},
   "outputs": [
    {
     "data": {
      "image/png": "[encoded data removed]",
      "text/plain": [
       "<Figure size 432x288 with 1 Axes>"
      ]
     },
     "metadata": {
      "needs_background": "light"
     },
     "output_type": "display_data"
    }
   ],
   "source": [
    "plt.plot(wind,ozone,'o')\n",
    "plt.ylabel(\"ozone\")\n",
    "plt.xlabel(\"wind\")\n",
    "plt.axhline(mean_ozone, color='r', linestyle='-')\n",
    "plt.show()"
   ]
  },
  {
   "cell_type": "code",
   "execution_count": 110,
   "id": "59d9d046",
   "metadata": {},
   "outputs": [],
   "source": [
    "#odinary least square OLS methods\n",
    "import statsmodels.api as sm"
   ]
  },
  {
   "cell_type": "code",
   "execution_count": 111,
   "id": "7b1a2cba",
   "metadata": {},
   "outputs": [
    {
     "data": {
      "text/html": [
       "<table class=\"simpletable\">\n",
       "<caption>OLS Regression Results</caption>\n",
       "<tr>\n",
       "  <th>Dep. Variable:</th>            <td>y</td>        <th>  R-squared (uncentered):</th>      <td>   0.439</td>\n",
       "</tr>\n",
       "<tr>\n",
       "  <th>Model:</th>                   <td>OLS</td>       <th>  Adj. R-squared (uncentered):</th> <td>   0.434</td>\n",
       "</tr>\n",
       "<tr>\n",
       "  <th>Method:</th>             <td>Least Squares</td>  <th>  F-statistic:       </th>          <td>   85.95</td>\n",
       "</tr>\n",
       "<tr>\n",
       "  <th>Date:</th>             <td>Mon, 05 Jul 2021</td> <th>  Prob (F-statistic):</th>          <td>1.83e-15</td>\n",
       "</tr>\n",
       "<tr>\n",
       "  <th>Time:</th>                 <td>18:57:22</td>     <th>  Log-Likelihood:    </th>          <td> -560.80</td>\n",
       "</tr>\n",
       "<tr>\n",
       "  <th>No. Observations:</th>      <td>   111</td>      <th>  AIC:               </th>          <td>   1124.</td>\n",
       "</tr>\n",
       "<tr>\n",
       "  <th>Df Residuals:</th>          <td>   110</td>      <th>  BIC:               </th>          <td>   1126.</td>\n",
       "</tr>\n",
       "<tr>\n",
       "  <th>Df Model:</th>              <td>     1</td>      <th>                     </th>              <td> </td>   \n",
       "</tr>\n",
       "<tr>\n",
       "  <th>Covariance Type:</th>      <td>nonrobust</td>    <th>                     </th>              <td> </td>   \n",
       "</tr>\n",
       "</table>\n",
       "<table class=\"simpletable\">\n",
       "<tr>\n",
       "  <td></td>     <th>coef</th>     <th>std err</th>      <th>t</th>      <th>P>|t|</th>  <th>[0.025</th>    <th>0.975]</th>  \n",
       "</tr>\n",
       "<tr>\n",
       "  <th>2</th> <td>    3.2786</td> <td>    0.354</td> <td>    9.271</td> <td> 0.000</td> <td>    2.578</td> <td>    3.979</td>\n",
       "</tr>\n",
       "</table>\n",
       "<table class=\"simpletable\">\n",
       "<tr>\n",
       "  <th>Omnibus:</th>       <td>11.720</td> <th>  Durbin-Watson:     </th> <td>   0.843</td>\n",
       "</tr>\n",
       "<tr>\n",
       "  <th>Prob(Omnibus):</th> <td> 0.003</td> <th>  Jarque-Bera (JB):  </th> <td>  13.273</td>\n",
       "</tr>\n",
       "<tr>\n",
       "  <th>Skew:</th>          <td> 0.840</td> <th>  Prob(JB):          </th> <td> 0.00131</td>\n",
       "</tr>\n",
       "<tr>\n",
       "  <th>Kurtosis:</th>      <td> 2.788</td> <th>  Cond. No.          </th> <td>    1.00</td>\n",
       "</tr>\n",
       "</table><br/><br/>Notes:<br/>[1] R² is computed without centering (uncentered) since the model does not contain a constant.<br/>[2] Standard Errors assume that the covariance matrix of the errors is correctly specified."
      ],
      "text/plain": [
       "<class 'statsmodels.iolib.summary.Summary'>\n",
       "\"\"\"\n",
       "                                 OLS Regression Results                                \n",
       "=======================================================================================\n",
       "Dep. Variable:                      y   R-squared (uncentered):                   0.439\n",
       "Model:                            OLS   Adj. R-squared (uncentered):              0.434\n",
       "Method:                 Least Squares   F-statistic:                              85.95\n",
       "Date:                Mon, 05 Jul 2021   Prob (F-statistic):                    1.83e-15\n",
       "Time:                        18:57:22   Log-Likelihood:                         -560.80\n",
       "No. Observations:                 111   AIC:                                      1124.\n",
       "Df Residuals:                     110   BIC:                                      1126.\n",
       "Df Model:                           1                                                  \n",
       "Covariance Type:            nonrobust                                                  \n",
       "==============================================================================\n",
       "                 coef    std err          t      P>|t|      [0.025      0.975]\n",
       "------------------------------------------------------------------------------\n",
       "2              3.2786      0.354      9.271      0.000       2.578       3.979\n",
       "==============================================================================\n",
       "Omnibus:                       11.720   Durbin-Watson:                   0.843\n",
       "Prob(Omnibus):                  0.003   Jarque-Bera (JB):               13.273\n",
       "Skew:                           0.840   Prob(JB):                      0.00131\n",
       "Kurtosis:                       2.788   Cond. No.                         1.00\n",
       "==============================================================================\n",
       "\n",
       "Notes:\n",
       "[1] R² is computed without centering (uncentered) since the model does not contain a constant.\n",
       "[2] Standard Errors assume that the covariance matrix of the errors is correctly specified.\n",
       "\"\"\""
      ]
     },
     "execution_count": 111,
     "metadata": {},
     "output_type": "execute_result"
    }
   ],
   "source": [
    "model2=sm.OLS(ozone,wind).fit()\n",
    "model2.summary()"
   ]
  },
  {
   "cell_type": "raw",
   "id": "5dfd70d9",
   "metadata": {},
   "source": [
    "Observations:\n",
    "- slope is 0.354,that means for every 1 unit rise in Wind flow,ozone depletion affected by 3.27 units\n",
    "- talking about the R square value,its value is .439 which is not a gud number,so we can say that this models doesn't have capabilities to explain variance between Wind And Ozone\n",
    "- talking about the adj R square value,which shows how well our model predict the future results of untested data,so its value is .434 which is not a good number"
   ]
  },
  {
   "cell_type": "markdown",
   "id": "ebed2a61",
   "metadata": {},
   "source": [
    "# # Checking data normalisation(wind)"
   ]
  },
  {
   "cell_type": "code",
   "execution_count": 112,
   "id": "e3af4d7d",
   "metadata": {},
   "outputs": [
    {
     "name": "stderr",
     "output_type": "stream",
     "text": [
      "C:\\Users\\Sandhu\\anaconda3\\lib\\site-packages\\seaborn\\distributions.py:2557: FutureWarning: `distplot` is a deprecated function and will be removed in a future version. Please adapt your code to use either `displot` (a figure-level function with similar flexibility) or `histplot` (an axes-level function for histograms).\n",
      "  warnings.warn(msg, FutureWarning)\n"
     ]
    },
    {
     "data": {
      "text/plain": [
       "<AxesSubplot:xlabel='2', ylabel='Density'>"
      ]
     },
     "execution_count": 112,
     "metadata": {},
     "output_type": "execute_result"
    },
    {
     "data": {
      "image/png": "[encoded data removed]",
      "text/plain": [
       "<Figure size 432x288 with 1 Axes>"
      ]
     },
     "metadata": {
      "needs_background": "light"
     },
     "output_type": "display_data"
    }
   ],
   "source": [
    "sns.distplot(df1[2])"
   ]
  },
  {
   "cell_type": "code",
   "execution_count": 113,
   "id": "d28e08c3",
   "metadata": {},
   "outputs": [
    {
     "data": {
      "text/plain": [
       "<AxesSubplot:xlabel='2', ylabel='0'>"
      ]
     },
     "execution_count": 113,
     "metadata": {},
     "output_type": "execute_result"
    },
    {
     "data": {
      "image/png": "[encoded data removed]",
      "text/plain": [
       "<Figure size 432x288 with 1 Axes>"
      ]
     },
     "metadata": {
      "needs_background": "light"
     },
     "output_type": "display_data"
    }
   ],
   "source": [
    "#Plot a regression line\n",
    "plt.plot(wind,ozone,'o')\n",
    "plt.ylabel(\"Ozone\")\n",
    "plt.xlabel(\"Wind\")\n",
    "plt.axhline(mean_ozone, color='r', linestyle='-')\n",
    "sns.regplot(x=wind, y=ozone, data=df1)"
   ]
  },
  {
   "cell_type": "code",
   "execution_count": 114,
   "id": "44893d52",
   "metadata": {},
   "outputs": [],
   "source": [
    "#Split up the data into 'x' array that contains the features to train on and 'y' array with the target variable\n",
    "x3=df1[2]\n",
    "y3=df1[0]"
   ]
  },
  {
   "cell_type": "code",
   "execution_count": 115,
   "id": "f075a859",
   "metadata": {},
   "outputs": [
    {
     "data": {
      "text/plain": [
       "0       7.4\n",
       "1       8.0\n",
       "2      12.6\n",
       "3      11.5\n",
       "4      14.9\n",
       "       ... \n",
       "106    16.6\n",
       "107     6.9\n",
       "108    14.3\n",
       "109     8.0\n",
       "110    11.5\n",
       "Name: 2, Length: 111, dtype: float64"
      ]
     },
     "execution_count": 115,
     "metadata": {},
     "output_type": "execute_result"
    }
   ],
   "source": [
    "x3"
   ]
  },
  {
   "cell_type": "code",
   "execution_count": 116,
   "id": "45c14a1a",
   "metadata": {},
   "outputs": [
    {
     "data": {
      "text/plain": [
       "0      41.0\n",
       "1      36.0\n",
       "2      12.0\n",
       "3      18.0\n",
       "4      28.0\n",
       "       ... \n",
       "106    14.0\n",
       "107    30.0\n",
       "108    14.0\n",
       "109    18.0\n",
       "110    20.0\n",
       "Name: 0, Length: 111, dtype: float64"
      ]
     },
     "execution_count": 116,
     "metadata": {},
     "output_type": "execute_result"
    }
   ],
   "source": [
    "y3"
   ]
  },
  {
   "cell_type": "code",
   "execution_count": 117,
   "id": "666fffd4",
   "metadata": {},
   "outputs": [],
   "source": [
    "### Split the data into Training set and Test set\n",
    "\n",
    "#train_test_split splits arrays or matrices into random train and test subsets. \n",
    "from sklearn.model_selection import train_test_split \n",
    "x3_train, x3_test, y3_train, y3_test = train_test_split(x3, y3,test_size=0.3,random_state =1) \n",
    "\n",
    "#random_state=some_number,guarantees that the output of Run 1 will be equal to the output of Run 2, \n",
    "# i.e. split will be always the same."
   ]
  },
  {
   "cell_type": "code",
   "execution_count": 118,
   "id": "41ab8c90",
   "metadata": {},
   "outputs": [
    {
     "data": {
      "text/plain": [
       "32      9.2\n",
       "105    10.3\n",
       "19     12.0\n",
       "110    11.5\n",
       "27      8.0\n",
       "       ... \n",
       "9       9.2\n",
       "72     10.9\n",
       "12     11.5\n",
       "107     6.9\n",
       "37      6.3\n",
       "Name: 2, Length: 77, dtype: float64"
      ]
     },
     "execution_count": 118,
     "metadata": {},
     "output_type": "execute_result"
    }
   ],
   "source": [
    "x3_train"
   ]
  },
  {
   "cell_type": "code",
   "execution_count": 119,
   "id": "2a15bef1",
   "metadata": {},
   "outputs": [
    {
     "data": {
      "text/plain": [
       "32     49.0\n",
       "105     7.0\n",
       "19     32.0\n",
       "110    20.0\n",
       "27     23.0\n",
       "       ... \n",
       "9      11.0\n",
       "72     31.0\n",
       "12     14.0\n",
       "107    30.0\n",
       "37     97.0\n",
       "Name: 0, Length: 77, dtype: float64"
      ]
     },
     "execution_count": 119,
     "metadata": {},
     "output_type": "execute_result"
    }
   ],
   "source": [
    "y3_train"
   ]
  },
  {
   "cell_type": "code",
   "execution_count": 120,
   "id": "d0d4d98b",
   "metadata": {},
   "outputs": [
    {
     "data": {
      "text/plain": [
       "(77,)"
      ]
     },
     "execution_count": 120,
     "metadata": {},
     "output_type": "execute_result"
    }
   ],
   "source": [
    "x3_train.shape"
   ]
  },
  {
   "cell_type": "code",
   "execution_count": 121,
   "id": "86e92c44",
   "metadata": {},
   "outputs": [
    {
     "data": {
      "text/plain": [
       "(77,)"
      ]
     },
     "execution_count": 121,
     "metadata": {},
     "output_type": "execute_result"
    }
   ],
   "source": [
    "y3_train.shape"
   ]
  },
  {
   "cell_type": "code",
   "execution_count": 122,
   "id": "946d3f41",
   "metadata": {},
   "outputs": [],
   "source": [
    "x3_train=x3_train.values.reshape((-1,1))"
   ]
  },
  {
   "cell_type": "code",
   "execution_count": 123,
   "id": "11e59d78",
   "metadata": {},
   "outputs": [
    {
     "data": {
      "text/plain": [
       "(77, 1)"
      ]
     },
     "execution_count": 123,
     "metadata": {},
     "output_type": "execute_result"
    }
   ],
   "source": [
    "x3_train.shape"
   ]
  },
  {
   "cell_type": "code",
   "execution_count": 124,
   "id": "cbe00831",
   "metadata": {},
   "outputs": [
    {
     "data": {
      "text/plain": [
       "array([[ 9.2],\n",
       "       [10.3],\n",
       "       [12. ],\n",
       "       [11.5],\n",
       "       [ 8. ],\n",
       "       [ 5.1],\n",
       "       [ 7.4],\n",
       "       [ 7.4],\n",
       "       [11.5],\n",
       "       [14.9],\n",
       "       [ 6.3],\n",
       "       [14.3],\n",
       "       [ 6.3],\n",
       "       [ 4.6],\n",
       "       [ 5.1],\n",
       "       [ 7.4],\n",
       "       [ 4.6],\n",
       "       [10.3],\n",
       "       [11.5],\n",
       "       [14.9],\n",
       "       [ 8. ],\n",
       "       [ 9.7],\n",
       "       [15.5],\n",
       "       [14.9],\n",
       "       [ 8.6],\n",
       "       [ 6.3],\n",
       "       [ 8. ],\n",
       "       [12. ],\n",
       "       [11.5],\n",
       "       [14.3],\n",
       "       [ 6.9],\n",
       "       [ 9.7],\n",
       "       [ 6.3],\n",
       "       [ 9.2],\n",
       "       [ 8.6],\n",
       "       [14.9],\n",
       "       [11.5],\n",
       "       [11.5],\n",
       "       [ 8. ],\n",
       "       [11.5],\n",
       "       [ 4.6],\n",
       "       [ 9.7],\n",
       "       [ 6.9],\n",
       "       [ 7.4],\n",
       "       [10.3],\n",
       "       [ 6.9],\n",
       "       [ 5.7],\n",
       "       [ 7.4],\n",
       "       [ 4. ],\n",
       "       [ 6.9],\n",
       "       [16.6],\n",
       "       [12. ],\n",
       "       [ 9.7],\n",
       "       [10.9],\n",
       "       [11.5],\n",
       "       [ 9.2],\n",
       "       [14.9],\n",
       "       [13.2],\n",
       "       [ 2.8],\n",
       "       [ 9.7],\n",
       "       [12. ],\n",
       "       [ 8. ],\n",
       "       [13.8],\n",
       "       [13.8],\n",
       "       [ 7.4],\n",
       "       [ 9.7],\n",
       "       [ 8. ],\n",
       "       [ 9.7],\n",
       "       [10.3],\n",
       "       [ 2.3],\n",
       "       [ 8.6],\n",
       "       [14.3],\n",
       "       [ 9.2],\n",
       "       [10.9],\n",
       "       [11.5],\n",
       "       [ 6.9],\n",
       "       [ 6.3]])"
      ]
     },
     "execution_count": 124,
     "metadata": {},
     "output_type": "execute_result"
    }
   ],
   "source": [
    "x3_train"
   ]
  },
  {
   "cell_type": "code",
   "execution_count": 125,
   "id": "5ab9e15d",
   "metadata": {},
   "outputs": [
    {
     "data": {
      "text/plain": [
       "32     49.0\n",
       "105     7.0\n",
       "19     32.0\n",
       "110    20.0\n",
       "27     23.0\n",
       "       ... \n",
       "9      11.0\n",
       "72     31.0\n",
       "12     14.0\n",
       "107    30.0\n",
       "37     97.0\n",
       "Name: 0, Length: 77, dtype: float64"
      ]
     },
     "execution_count": 125,
     "metadata": {},
     "output_type": "execute_result"
    }
   ],
   "source": [
    "y3_train"
   ]
  },
  {
   "cell_type": "code",
   "execution_count": 126,
   "id": "ee418092",
   "metadata": {},
   "outputs": [],
   "source": [
    "from sklearn import linear_model as lm\n",
    "model2=lm.LinearRegression()\n",
    "results=model2.fit(x3_train,y3_train) "
   ]
  },
  {
   "cell_type": "code",
   "execution_count": 127,
   "id": "01d7dc9b",
   "metadata": {},
   "outputs": [
    {
     "name": "stdout",
     "output_type": "stream",
     "text": [
      "Accuracy of the model: 0.33344180011820324\n"
     ]
    }
   ],
   "source": [
    "accuracy = model2.score(x3_train, y3_train)\n",
    "print('Accuracy of the model:', accuracy)"
   ]
  },
  {
   "cell_type": "code",
   "execution_count": 128,
   "id": "4538692a",
   "metadata": {},
   "outputs": [
    {
     "name": "stdout",
     "output_type": "stream",
     "text": [
      "intercept: 93.87770088069121\n",
      "slope: [-5.40420883]\n"
     ]
    }
   ],
   "source": [
    "#Print coefficients\n",
    "print('intercept:', model2.intercept_)\n",
    "print('slope:', model2.coef_)"
   ]
  },
  {
   "cell_type": "code",
   "execution_count": 129,
   "id": "4bf22ae3",
   "metadata": {},
   "outputs": [
    {
     "data": {
      "text/plain": [
       "LinearRegression()"
      ]
     },
     "execution_count": 129,
     "metadata": {},
     "output_type": "execute_result"
    }
   ],
   "source": [
    "#Check model score\n",
    "model2"
   ]
  },
  {
   "cell_type": "code",
   "execution_count": 130,
   "id": "92ac0bbc",
   "metadata": {},
   "outputs": [
    {
     "data": {
      "text/plain": [
       "90     10.9\n",
       "44     10.3\n",
       "56      9.2\n",
       "82      6.9\n",
       "69     10.3\n",
       "102    12.6\n",
       "98     13.8\n",
       "58     13.8\n",
       "35     10.9\n",
       "38      5.7\n",
       "65      8.0\n",
       "91      9.7\n",
       "2      12.6\n",
       "99     10.3\n",
       "104    10.3\n",
       "53      7.4\n",
       "97      6.9\n",
       "94      6.3\n",
       "89     10.3\n",
       "42     14.3\n",
       "74     15.5\n",
       "17     16.6\n",
       "78      9.7\n",
       "54      7.4\n",
       "88     10.9\n",
       "33      9.2\n",
       "67     11.5\n",
       "48      6.9\n",
       "46      5.1\n",
       "87     15.5\n",
       "31     10.3\n",
       "55      7.4\n",
       "59      7.4\n",
       "10     10.9\n",
       "Name: 2, dtype: float64"
      ]
     },
     "execution_count": 130,
     "metadata": {},
     "output_type": "execute_result"
    }
   ],
   "source": [
    "x3_test"
   ]
  },
  {
   "cell_type": "code",
   "execution_count": 131,
   "id": "6429eaf2",
   "metadata": {},
   "outputs": [
    {
     "data": {
      "text/plain": [
       "(34,)"
      ]
     },
     "execution_count": 131,
     "metadata": {},
     "output_type": "execute_result"
    }
   ],
   "source": [
    "x3_test.shape"
   ]
  },
  {
   "cell_type": "code",
   "execution_count": 132,
   "id": "864ee8a3",
   "metadata": {},
   "outputs": [],
   "source": [
    "x3_test=x3_test.values.reshape((-1,1))"
   ]
  },
  {
   "cell_type": "code",
   "execution_count": 133,
   "id": "6a7e510b",
   "metadata": {},
   "outputs": [
    {
     "data": {
      "text/plain": [
       "(34, 1)"
      ]
     },
     "execution_count": 133,
     "metadata": {},
     "output_type": "execute_result"
    }
   ],
   "source": [
    "x3_test.shape"
   ]
  },
  {
   "cell_type": "code",
   "execution_count": 134,
   "id": "0189dbe4",
   "metadata": {},
   "outputs": [
    {
     "name": "stdout",
     "output_type": "stream",
     "text": [
      "predicted O.ring.failures:\n",
      "[34.97182464 38.21434993 44.15897965 56.58865996 38.21434993 25.78466963\n",
      " 19.29961903 19.29961903 34.97182464 63.07371055 50.64403024 41.45687523\n",
      " 25.78466963 38.21434993 38.21434993 53.88655554 56.58865996 59.83118525\n",
      " 38.21434993 16.59751461 10.11246402  4.16783431 41.45687523 53.88655554\n",
      " 34.97182464 44.15897965 31.72929934 56.58865996 66.31623585 10.11246402\n",
      " 38.21434993 53.88655554 53.88655554 34.97182464]\n"
     ]
    }
   ],
   "source": [
    "#Predictions from the model\n",
    "predictions = model2.predict(x3_test)\n",
    "print('predicted O.ring.failures:',predictions, sep = '\\n')"
   ]
  },
  {
   "cell_type": "code",
   "execution_count": 135,
   "id": "a4a5a56d",
   "metadata": {},
   "outputs": [
    {
     "data": {
      "text/plain": [
       "90      21.0\n",
       "44      35.0\n",
       "56      59.0\n",
       "82      96.0\n",
       "69      22.0\n",
       "102     13.0\n",
       "98      18.0\n",
       "58       9.0\n",
       "35      40.0\n",
       "38      97.0\n",
       "65     110.0\n",
       "91      24.0\n",
       "2       12.0\n",
       "99      13.0\n",
       "104     36.0\n",
       "53      82.0\n",
       "97      46.0\n",
       "94      28.0\n",
       "89      23.0\n",
       "42       7.0\n",
       "74      21.0\n",
       "17      11.0\n",
       "78      76.0\n",
       "54      50.0\n",
       "88      20.0\n",
       "33      32.0\n",
       "67      28.0\n",
       "48      16.0\n",
       "46      79.0\n",
       "87      32.0\n",
       "31      13.0\n",
       "55      64.0\n",
       "59      16.0\n",
       "10      14.0\n",
       "Name: 0, dtype: float64"
      ]
     },
     "execution_count": 135,
     "metadata": {},
     "output_type": "execute_result"
    }
   ],
   "source": [
    "y3_test"
   ]
  },
  {
   "cell_type": "code",
   "execution_count": 136,
   "id": "fe7dc7d2",
   "metadata": {},
   "outputs": [
    {
     "data": {
      "text/plain": [
       "<matplotlib.collections.PathCollection at 0x1fc292fcd90>"
      ]
     },
     "execution_count": 136,
     "metadata": {},
     "output_type": "execute_result"
    },
    {
     "data": {
      "image/png": "[encoded data removed]",
      "text/plain": [
       "<Figure size 432x288 with 1 Axes>"
      ]
     },
     "metadata": {
      "needs_background": "light"
     },
     "output_type": "display_data"
    }
   ],
   "source": [
    "#Visualize the predictions\n",
    "plt.scatter(y3_test, predictions)"
   ]
  },
  {
   "cell_type": "code",
   "execution_count": 139,
   "id": "933678ef",
   "metadata": {},
   "outputs": [],
   "source": [
    "#Evaluating the model \n",
    "from sklearn.metrics import mean_squared_error, r2_score\n",
    "x3_train = x3_train.reshape(-1,1)\n",
    "y3_train_prediction = model2.predict(x3_train)\n",
    "\n",
    "x3_test = x3_test.reshape(-1,1)\n",
    "y3_test_prediction = model2.predict(x3_test)"
   ]
  },
  {
   "cell_type": "code",
   "execution_count": 140,
   "id": "6be880c2",
   "metadata": {},
   "outputs": [
    {
     "name": "stdout",
     "output_type": "stream",
     "text": [
      "Slope: [-5.40420883]\n",
      "Intercept: 93.87770088069121\n",
      "\n",
      "\n",
      "The model performance for training set\n",
      "--------------------------------------\n",
      "RMSE is 24.62353309329056\n",
      "R2 score is 0.33344180011820324\n",
      "\n",
      "\n",
      "The model performance for testing set\n",
      "--------------------------------------\n",
      "Root mean squared error:  22.522797755978473\n",
      "R2 score:  0.3678628167681699\n"
     ]
    }
   ],
   "source": [
    "# printing values\n",
    "print('Slope:' ,model2.coef_)\n",
    "print('Intercept:', model2.intercept_)\n",
    "print(\"\\n\")\n",
    "\n",
    "# model evaluation for training set\n",
    "import numpy as np\n",
    "rmse_training = (np.sqrt(mean_squared_error(y3_train, y3_train_prediction)))\n",
    "r2_training = r2_score(y3_train, y3_train_prediction)\n",
    "\n",
    "print(\"The model performance for training set\")\n",
    "print(\"--------------------------------------\")\n",
    "print('RMSE is {}'.format(rmse_training))\n",
    "print('R2 score is {}'.format(r2_training))\n",
    "print(\"\\n\")\n",
    "\n",
    "# model evaluation for testing set\n",
    "rmse_testing = (np.sqrt(mean_squared_error(y3_test, y3_test_prediction)))\n",
    "r2_testing = r2_score(y3_test, y3_test_prediction)\n",
    "\n",
    "print(\"The model performance for testing set\")\n",
    "print(\"--------------------------------------\")\n",
    "print('Root mean squared error: ', rmse_testing)\n",
    "print('R2 score: ', r2_testing)"
   ]
  },
  {
   "cell_type": "raw",
   "id": "5f78bbc5",
   "metadata": {},
   "source": [
    "As we know that for a good model:\n",
    "-rmse of testing data must be < rmse of traning data AND\n",
    "-R sqr of testing  > traning\n",
    "and we are getting the same pattern,so we can say that it is a good model but as the values are very small it is very difficult for the prediction."
   ]
  },
  {
   "cell_type": "code",
   "execution_count": 141,
   "id": "0843ec65",
   "metadata": {},
   "outputs": [
    {
     "data": {
      "text/plain": [
       "Text(0, 0.5, 'Ozone')"
      ]
     },
     "execution_count": 141,
     "metadata": {},
     "output_type": "execute_result"
    },
    {
     "data": {
      "image/png": "[encoded data removed]",
      "text/plain": [
       "<Figure size 432x288 with 1 Axes>"
      ]
     },
     "metadata": {
      "needs_background": "light"
     },
     "output_type": "display_data"
    }
   ],
   "source": [
    "# plotting values\n",
    "\n",
    "# data points\n",
    "plt.scatter(x3, y3)\n",
    "plt.xlabel('Wind')\n",
    "plt.ylabel('Ozone')"
   ]
  },
  {
   "cell_type": "code",
   "execution_count": 143,
   "id": "e91d5c8a",
   "metadata": {},
   "outputs": [],
   "source": [
    "x3= x3.values.reshape(-1,1)\n",
    "y3_predicted = model2.predict(x3)"
   ]
  },
  {
   "cell_type": "code",
   "execution_count": 144,
   "id": "696b111a",
   "metadata": {},
   "outputs": [
    {
     "data": {
      "image/png": "[encoded data removed]",
      "text/plain": [
       "<Figure size 432x288 with 1 Axes>"
      ]
     },
     "metadata": {
      "needs_background": "light"
     },
     "output_type": "display_data"
    }
   ],
   "source": [
    "# predicted values\n",
    "plt.plot(x3, y3_predicted, color='r')\n",
    "plt.show()"
   ]
  },
  {
   "cell_type": "markdown",
   "id": "08f1fbac",
   "metadata": {},
   "source": [
    "# Multiple Linear Regression (Wind, Solar.R and Ozone)\n",
    "  \n"
   ]
  },
  {
   "cell_type": "code",
   "execution_count": 145,
   "id": "0530047c",
   "metadata": {},
   "outputs": [],
   "source": [
    "X = df1[[1, 2]]\n",
    "y = df1[0]"
   ]
  },
  {
   "cell_type": "code",
   "execution_count": 146,
   "id": "3549469c",
   "metadata": {},
   "outputs": [],
   "source": [
    "import statsmodels.api as sm"
   ]
  },
  {
   "cell_type": "code",
   "execution_count": 147,
   "id": "36913e03",
   "metadata": {},
   "outputs": [
    {
     "data": {
      "text/html": [
       "<table class=\"simpletable\">\n",
       "<caption>OLS Regression Results</caption>\n",
       "<tr>\n",
       "  <th>Dep. Variable:</th>            <td>y</td>        <th>  R-squared (uncentered):</th>      <td>   0.661</td>\n",
       "</tr>\n",
       "<tr>\n",
       "  <th>Model:</th>                   <td>OLS</td>       <th>  Adj. R-squared (uncentered):</th> <td>   0.655</td>\n",
       "</tr>\n",
       "<tr>\n",
       "  <th>Method:</th>             <td>Least Squares</td>  <th>  F-statistic:       </th>          <td>   106.3</td>\n",
       "</tr>\n",
       "<tr>\n",
       "  <th>Date:</th>             <td>Mon, 05 Jul 2021</td> <th>  Prob (F-statistic):</th>          <td>2.43e-26</td>\n",
       "</tr>\n",
       "<tr>\n",
       "  <th>Time:</th>                 <td>18:59:01</td>     <th>  Log-Likelihood:    </th>          <td> -532.79</td>\n",
       "</tr>\n",
       "<tr>\n",
       "  <th>No. Observations:</th>      <td>   111</td>      <th>  AIC:               </th>          <td>   1070.</td>\n",
       "</tr>\n",
       "<tr>\n",
       "  <th>Df Residuals:</th>          <td>   109</td>      <th>  BIC:               </th>          <td>   1075.</td>\n",
       "</tr>\n",
       "<tr>\n",
       "  <th>Df Model:</th>              <td>     2</td>      <th>                     </th>              <td> </td>   \n",
       "</tr>\n",
       "<tr>\n",
       "  <th>Covariance Type:</th>      <td>nonrobust</td>    <th>                     </th>              <td> </td>   \n",
       "</tr>\n",
       "</table>\n",
       "<table class=\"simpletable\">\n",
       "<tr>\n",
       "  <td></td>     <th>coef</th>     <th>std err</th>      <th>t</th>      <th>P>|t|</th>  <th>[0.025</th>    <th>0.975]</th>  \n",
       "</tr>\n",
       "<tr>\n",
       "  <th>1</th> <td>    0.2209</td> <td>    0.026</td> <td>    8.460</td> <td> 0.000</td> <td>    0.169</td> <td>    0.273</td>\n",
       "</tr>\n",
       "<tr>\n",
       "  <th>2</th> <td>   -0.4935</td> <td>    0.524</td> <td>   -0.941</td> <td> 0.349</td> <td>   -1.533</td> <td>    0.546</td>\n",
       "</tr>\n",
       "</table>\n",
       "<table class=\"simpletable\">\n",
       "<tr>\n",
       "  <th>Omnibus:</th>       <td> 2.602</td> <th>  Durbin-Watson:     </th> <td>   1.182</td>\n",
       "</tr>\n",
       "<tr>\n",
       "  <th>Prob(Omnibus):</th> <td> 0.272</td> <th>  Jarque-Bera (JB):  </th> <td>   2.272</td>\n",
       "</tr>\n",
       "<tr>\n",
       "  <th>Skew:</th>          <td> 0.244</td> <th>  Prob(JB):          </th> <td>   0.321</td>\n",
       "</tr>\n",
       "<tr>\n",
       "  <th>Kurtosis:</th>      <td> 2.497</td> <th>  Cond. No.          </th> <td>    38.2</td>\n",
       "</tr>\n",
       "</table><br/><br/>Notes:<br/>[1] R² is computed without centering (uncentered) since the model does not contain a constant.<br/>[2] Standard Errors assume that the covariance matrix of the errors is correctly specified."
      ],
      "text/plain": [
       "<class 'statsmodels.iolib.summary.Summary'>\n",
       "\"\"\"\n",
       "                                 OLS Regression Results                                \n",
       "=======================================================================================\n",
       "Dep. Variable:                      y   R-squared (uncentered):                   0.661\n",
       "Model:                            OLS   Adj. R-squared (uncentered):              0.655\n",
       "Method:                 Least Squares   F-statistic:                              106.3\n",
       "Date:                Mon, 05 Jul 2021   Prob (F-statistic):                    2.43e-26\n",
       "Time:                        18:59:01   Log-Likelihood:                         -532.79\n",
       "No. Observations:                 111   AIC:                                      1070.\n",
       "Df Residuals:                     109   BIC:                                      1075.\n",
       "Df Model:                           2                                                  \n",
       "Covariance Type:            nonrobust                                                  \n",
       "==============================================================================\n",
       "                 coef    std err          t      P>|t|      [0.025      0.975]\n",
       "------------------------------------------------------------------------------\n",
       "1              0.2209      0.026      8.460      0.000       0.169       0.273\n",
       "2             -0.4935      0.524     -0.941      0.349      -1.533       0.546\n",
       "==============================================================================\n",
       "Omnibus:                        2.602   Durbin-Watson:                   1.182\n",
       "Prob(Omnibus):                  0.272   Jarque-Bera (JB):                2.272\n",
       "Skew:                           0.244   Prob(JB):                        0.321\n",
       "Kurtosis:                       2.497   Cond. No.                         38.2\n",
       "==============================================================================\n",
       "\n",
       "Notes:\n",
       "[1] R² is computed without centering (uncentered) since the model does not contain a constant.\n",
       "[2] Standard Errors assume that the covariance matrix of the errors is correctly specified.\n",
       "\"\"\""
      ]
     },
     "execution_count": 147,
     "metadata": {},
     "output_type": "execute_result"
    }
   ],
   "source": [
    "model3 = sm.OLS(y,X).fit()\n",
    "predictions = model3.predict(X)\n",
    "model3.summary()"
   ]
  },
  {
   "cell_type": "raw",
   "id": "da318533",
   "metadata": {},
   "source": [
    "-when model generated p value is less than alpha value then reject the null hypothysis.\n",
    "-Adj R sqr defines the goodness of fit of model\n",
    "-f stats if it has value other than 0,and has any positive value that means the predicted and target value has some relation\n"
   ]
  },
  {
   "cell_type": "code",
   "execution_count": 148,
   "id": "3e2c88ee",
   "metadata": {},
   "outputs": [],
   "source": [
    "# Split data\n",
    "from sklearn.model_selection import train_test_split\n",
    "X_train, X_test, y_train, y_test = train_test_split(X, y,test_size = 0.2, random_state=1)"
   ]
  },
  {
   "cell_type": "code",
   "execution_count": 149,
   "id": "bd4dbcf1",
   "metadata": {},
   "outputs": [
    {
     "data": {
      "text/html": [
       "<div>\n",
       "<style scoped>\n",
       "    .dataframe tbody tr th:only-of-type {\n",
       "        vertical-align: middle;\n",
       "    }\n",
       "\n",
       "    .dataframe tbody tr th {\n",
       "        vertical-align: top;\n",
       "    }\n",
       "\n",
       "    .dataframe thead th {\n",
       "        text-align: right;\n",
       "    }\n",
       "</style>\n",
       "<table border=\"1\" class=\"dataframe\">\n",
       "  <thead>\n",
       "    <tr style=\"text-align: right;\">\n",
       "      <th></th>\n",
       "      <th>1</th>\n",
       "      <th>2</th>\n",
       "    </tr>\n",
       "  </thead>\n",
       "  <tbody>\n",
       "    <tr>\n",
       "      <th>54</th>\n",
       "      <td>275.0</td>\n",
       "      <td>7.4</td>\n",
       "    </tr>\n",
       "    <tr>\n",
       "      <th>88</th>\n",
       "      <td>252.0</td>\n",
       "      <td>10.9</td>\n",
       "    </tr>\n",
       "    <tr>\n",
       "      <th>33</th>\n",
       "      <td>236.0</td>\n",
       "      <td>9.2</td>\n",
       "    </tr>\n",
       "    <tr>\n",
       "      <th>67</th>\n",
       "      <td>273.0</td>\n",
       "      <td>11.5</td>\n",
       "    </tr>\n",
       "    <tr>\n",
       "      <th>48</th>\n",
       "      <td>7.0</td>\n",
       "      <td>6.9</td>\n",
       "    </tr>\n",
       "    <tr>\n",
       "      <th>...</th>\n",
       "      <td>...</td>\n",
       "      <td>...</td>\n",
       "    </tr>\n",
       "    <tr>\n",
       "      <th>9</th>\n",
       "      <td>290.0</td>\n",
       "      <td>9.2</td>\n",
       "    </tr>\n",
       "    <tr>\n",
       "      <th>72</th>\n",
       "      <td>244.0</td>\n",
       "      <td>10.9</td>\n",
       "    </tr>\n",
       "    <tr>\n",
       "      <th>12</th>\n",
       "      <td>334.0</td>\n",
       "      <td>11.5</td>\n",
       "    </tr>\n",
       "    <tr>\n",
       "      <th>107</th>\n",
       "      <td>193.0</td>\n",
       "      <td>6.9</td>\n",
       "    </tr>\n",
       "    <tr>\n",
       "      <th>37</th>\n",
       "      <td>267.0</td>\n",
       "      <td>6.3</td>\n",
       "    </tr>\n",
       "  </tbody>\n",
       "</table>\n",
       "<p>88 rows × 2 columns</p>\n",
       "</div>"
      ],
      "text/plain": [
       "         1     2\n",
       "54   275.0   7.4\n",
       "88   252.0  10.9\n",
       "33   236.0   9.2\n",
       "67   273.0  11.5\n",
       "48     7.0   6.9\n",
       "..     ...   ...\n",
       "9    290.0   9.2\n",
       "72   244.0  10.9\n",
       "12   334.0  11.5\n",
       "107  193.0   6.9\n",
       "37   267.0   6.3\n",
       "\n",
       "[88 rows x 2 columns]"
      ]
     },
     "execution_count": 149,
     "metadata": {},
     "output_type": "execute_result"
    }
   ],
   "source": [
    "X_train"
   ]
  },
  {
   "cell_type": "code",
   "execution_count": 150,
   "id": "39b82aba",
   "metadata": {},
   "outputs": [
    {
     "data": {
      "text/plain": [
       "54     50.0\n",
       "88     20.0\n",
       "33     32.0\n",
       "67     28.0\n",
       "48     16.0\n",
       "       ... \n",
       "9      11.0\n",
       "72     31.0\n",
       "12     14.0\n",
       "107    30.0\n",
       "37     97.0\n",
       "Name: 0, Length: 88, dtype: float64"
      ]
     },
     "execution_count": 150,
     "metadata": {},
     "output_type": "execute_result"
    }
   ],
   "source": [
    "y_train"
   ]
  },
  {
   "cell_type": "code",
   "execution_count": 151,
   "id": "ae18fabb",
   "metadata": {},
   "outputs": [],
   "source": [
    "# define the data/predictors as the pre-set feature names  \n",
    "features = X_train.iloc[:,:].values"
   ]
  },
  {
   "cell_type": "code",
   "execution_count": 152,
   "id": "02b5394b",
   "metadata": {},
   "outputs": [
    {
     "data": {
      "text/plain": [
       "array([[275.        ,   7.4       ],\n",
       "       [252.        ,  10.9       ],\n",
       "       [236.        ,   9.2       ],\n",
       "       [273.        ,  11.5       ],\n",
       "       [  7.        ,   6.9       ],\n",
       "       [187.        ,   5.1       ],\n",
       "       [ 92.        ,  15.5       ],\n",
       "       [137.        ,  10.3       ],\n",
       "       [253.        ,   7.4       ],\n",
       "       [ 77.        ,   7.4       ],\n",
       "       [274.        ,  10.9       ],\n",
       "       [248.        ,   9.2       ],\n",
       "       [ 49.        ,  10.3       ],\n",
       "       [ 92.        ,  12.        ],\n",
       "       [223.        ,  11.5       ],\n",
       "       [148.        ,   8.        ],\n",
       "       [276.        ,   5.1       ],\n",
       "       [ 95.        ,   7.4       ],\n",
       "       [175.        ,   7.4       ],\n",
       "       [192.        ,  11.5       ],\n",
       "       [236.        ,  14.9       ],\n",
       "       [237.        ,   6.3       ],\n",
       "       [264.        ,  14.3       ],\n",
       "       [188.        ,   6.3       ],\n",
       "       [185.14150943,   4.6       ],\n",
       "       [197.        ,   5.1       ],\n",
       "       [279.        ,   7.4       ],\n",
       "       [175.        ,   4.6       ],\n",
       "       [190.        ,  10.3       ],\n",
       "       [112.        ,  11.5       ],\n",
       "       [185.14150943,  14.9       ],\n",
       "       [215.        ,   8.        ],\n",
       "       [ 44.        ,   9.7       ],\n",
       "       [259.        ,  15.5       ],\n",
       "       [175.        ,  14.9       ],\n",
       "       [ 81.        ,   8.6       ],\n",
       "       [285.        ,   6.3       ],\n",
       "       [201.        ,   8.        ],\n",
       "       [ 82.        ,  12.        ],\n",
       "       [323.        ,  11.5       ],\n",
       "       [191.        ,  14.3       ],\n",
       "       [260.        ,   6.9       ],\n",
       "       [127.        ,   9.7       ],\n",
       "       [ 51.        ,   6.3       ],\n",
       "       [ 14.        ,   9.2       ],\n",
       "       [294.        ,   8.6       ],\n",
       "       [252.        ,  14.9       ],\n",
       "       [313.        ,  11.5       ],\n",
       "       [120.        ,  11.5       ],\n",
       "       [131.        ,   8.        ],\n",
       "       [220.        ,  11.5       ],\n",
       "       [189.        ,   4.6       ],\n",
       "       [256.        ,   9.7       ],\n",
       "       [185.14150943,   6.9       ],\n",
       "       [190.        ,   7.4       ],\n",
       "       [238.        ,  10.3       ],\n",
       "       [ 83.        ,   6.9       ],\n",
       "       [223.        ,   5.7       ],\n",
       "       [185.14150943,   7.4       ],\n",
       "       [255.        ,   4.        ],\n",
       "       [185.14150943,   6.9       ],\n",
       "       [ 20.        ,  16.6       ],\n",
       "       [307.        ,  12.        ],\n",
       "       [157.        ,   9.7       ],\n",
       "       [ 24.        ,  10.9       ],\n",
       "       [322.        ,  11.5       ],\n",
       "       [ 37.        ,   9.2       ],\n",
       "       [191.        ,  14.9       ],\n",
       "       [ 65.        ,  13.2       ],\n",
       "       [183.        ,   2.8       ],\n",
       "       [ 25.        ,   9.7       ],\n",
       "       [ 13.        ,  12.        ],\n",
       "       [223.        ,   8.        ],\n",
       "       [291.        ,  13.8       ],\n",
       "       [ 99.        ,  13.8       ],\n",
       "       [115.        ,   7.4       ],\n",
       "       [212.        ,   9.7       ],\n",
       "       [118.        ,   8.        ],\n",
       "       [  8.        ,   9.7       ],\n",
       "       [229.        ,  10.3       ],\n",
       "       [225.        ,   2.3       ],\n",
       "       [299.        ,   8.6       ],\n",
       "       [ 36.        ,  14.3       ],\n",
       "       [290.        ,   9.2       ],\n",
       "       [244.        ,  10.9       ],\n",
       "       [334.        ,  11.5       ],\n",
       "       [193.        ,   6.9       ],\n",
       "       [267.        ,   6.3       ]])"
      ]
     },
     "execution_count": 152,
     "metadata": {},
     "output_type": "execute_result"
    }
   ],
   "source": [
    "features"
   ]
  },
  {
   "cell_type": "code",
   "execution_count": 153,
   "id": "2556dd7e",
   "metadata": {},
   "outputs": [
    {
     "data": {
      "text/plain": [
       "(88, 2)"
      ]
     },
     "execution_count": 153,
     "metadata": {},
     "output_type": "execute_result"
    }
   ],
   "source": [
    "features.shape"
   ]
  },
  {
   "cell_type": "code",
   "execution_count": 154,
   "id": "96e6cb71",
   "metadata": {},
   "outputs": [],
   "source": [
    "labels = y_train.iloc[:].values"
   ]
  },
  {
   "cell_type": "code",
   "execution_count": 155,
   "id": "9b171957",
   "metadata": {},
   "outputs": [
    {
     "data": {
      "text/plain": [
       "array([ 50.,  20.,  32.,  28.,  16.,  79.,  32.,  13.,  64.,  16.,  14.,\n",
       "        49.,   7.,  32.,  20.,  23.,  77.,  47.,  85.,  44.,  44.,  84.,\n",
       "        10.,  85.,  66.,  78.,  37.,  64.,  44.,  13.,  28.,  73.,  11.,\n",
       "        21.,  27.,  20.,  61.,  16.,  52.,  39.,  14.,  48.,  29.,  59.,\n",
       "        23.,  80.,  45.,  18.,  12.,  18.,  63.,  91.,  16.,  78.,  41.,\n",
       "        24.,  39., 115.,  35., 122.,   7.,  14.,  34.,  65.,   9.,  30.,\n",
       "        20.,  21.,  18.,  73.,   4.,  23., 108.,  71.,  19.,  23.,  45.,\n",
       "        36.,   1.,  89., 118.,  23.,   9.,  11.,  31.,  14.,  30.,  97.])"
      ]
     },
     "execution_count": 155,
     "metadata": {},
     "output_type": "execute_result"
    }
   ],
   "source": [
    "labels"
   ]
  },
  {
   "cell_type": "code",
   "execution_count": 156,
   "id": "a2fa60de",
   "metadata": {},
   "outputs": [
    {
     "data": {
      "text/plain": [
       "88"
      ]
     },
     "execution_count": 156,
     "metadata": {},
     "output_type": "execute_result"
    }
   ],
   "source": [
    "labels.size"
   ]
  },
  {
   "cell_type": "code",
   "execution_count": 157,
   "id": "29f1b31a",
   "metadata": {},
   "outputs": [],
   "source": [
    "X=features\n",
    "y=labels"
   ]
  },
  {
   "cell_type": "code",
   "execution_count": 158,
   "id": "4feb3fe0",
   "metadata": {},
   "outputs": [],
   "source": [
    "# Instantiate Multiple linear regrssion model\n",
    "from sklearn import linear_model as lm\n",
    "model3=lm.LinearRegression()\n",
    "results=model3.fit(features,labels) "
   ]
  },
  {
   "cell_type": "code",
   "execution_count": 159,
   "id": "fdba9ce2",
   "metadata": {},
   "outputs": [],
   "source": [
    "predictions = model3.predict(X)"
   ]
  },
  {
   "cell_type": "code",
   "execution_count": 160,
   "id": "c0ef1ffe",
   "metadata": {},
   "outputs": [
    {
     "name": "stdout",
     "output_type": "stream",
     "text": [
      "Accuracy of the model: 0.40814123626188403\n"
     ]
    }
   ],
   "source": [
    "accuracy=model3.score(features,labels)\n",
    "print('Accuracy of the model:', accuracy)"
   ]
  },
  {
   "cell_type": "code",
   "execution_count": 161,
   "id": "03f01c34",
   "metadata": {},
   "outputs": [
    {
     "data": {
      "text/plain": [
       "<matplotlib.collections.PathCollection at 0x1fc2a400670>"
      ]
     },
     "execution_count": 161,
     "metadata": {},
     "output_type": "execute_result"
    },
    {
     "data": {
      "image/png": "[encoded data removed]",
      "text/plain": [
       "<Figure size 432x288 with 1 Axes>"
      ]
     },
     "metadata": {
      "needs_background": "light"
     },
     "output_type": "display_data"
    }
   ],
   "source": [
    "#Visualize the predictions\n",
    "plt.scatter(y, predictions)"
   ]
  },
  {
   "cell_type": "code",
   "execution_count": 162,
   "id": "cbbdc455",
   "metadata": {},
   "outputs": [
    {
     "name": "stdout",
     "output_type": "stream",
     "text": [
      "Slope: [ 0.10085785 -4.9985162 ]\n",
      "Intercept: 70.42836139881645\n",
      "\n",
      "\n",
      "The model performance\n",
      "--------------------------------------\n",
      "RMSE is 22.57713553396693\n",
      "R2 score is 0.40814123626188403\n",
      "\n",
      "\n"
     ]
    }
   ],
   "source": [
    "#Evaluating the model \n",
    "from sklearn.metrics import mean_squared_error, r2_score\n",
    "\n",
    "# printing values\n",
    "print('Slope:' ,model3.coef_)\n",
    "print('Intercept:', model3.intercept_)\n",
    "print(\"\\n\")\n",
    "\n",
    "\n",
    "import numpy as np\n",
    "rmse = (np.sqrt(mean_squared_error(y,predictions)))\n",
    "r2 = r2_score(y,predictions)\n",
    "\n",
    "print(\"The model performance\")\n",
    "print(\"--------------------------------------\")\n",
    "print('RMSE is {}'.format(rmse))\n",
    "print('R2 score is {}'.format(r2))\n",
    "print(\"\\n\")"
   ]
  },
  {
   "cell_type": "code",
   "execution_count": null,
   "id": "1692e8c2",
   "metadata": {},
   "outputs": [],
   "source": []
  },
  {
   "cell_type": "code",
   "execution_count": null,
   "id": "239bc067",
   "metadata": {},
   "outputs": [],
   "source": []
  }
 ],
 "metadata": {
  "kernelspec": {
   "display_name": "Python 3",
   "language": "python",
   "name": "python3"
  },
  "language_info": {
   "codemirror_mode": {
    "name": "ipython",
    "version": 3
   },
   "file_extension": ".py",
   "mimetype": "text/x-python",
   "name": "python",
   "nbconvert_exporter": "python",
   "pygments_lexer": "ipython3",
   "version": "3.8.8"
  }
 },
 "nbformat": 4,
 "nbformat_minor": 5
}
